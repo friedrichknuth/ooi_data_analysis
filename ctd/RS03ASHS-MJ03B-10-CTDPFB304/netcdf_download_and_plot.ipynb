{
 "cells": [
  {
   "cell_type": "markdown",
   "metadata": {},
   "source": [
    "### Authenticating with the M2M API\n",
    "\n",
    "Login in at https://ooinet.oceanobservatories.org/ and obtain your <b>API username and API token</b> under your profile (top right corner)."
   ]
  },
  {
   "cell_type": "code",
   "execution_count": 1,
   "metadata": {
    "collapsed": true
   },
   "outputs": [],
   "source": [
    "username =''\n",
    "token = ''"
   ]
  },
  {
   "cell_type": "markdown",
   "metadata": {},
   "source": [
    "Optionally, you can handle authentication outside the notebook by setting up a .netrc file in your home directory and loading it with your bash profile. Open your terminal\n",
    "```\n",
    "$ touch .netrc\n",
    "$ chmod 700 .netrc\n",
    "$ vim .netrc\n",
    "\n",
    "```\n",
    "Add the following your your .netrc file:\n",
    "\n",
    "```\n",
    "machine ooinet.oceanobservatories.org\n",
    "login OOIAPI-TEMPD1SPK4K0X\n",
    "password TEMPCXL48ET2XT\n",
    "```\n",
    "\n",
    "Use your username and token. Save the file and uncomment the following cell."
   ]
  },
  {
   "cell_type": "code",
   "execution_count": 2,
   "metadata": {
    "collapsed": true
   },
   "outputs": [],
   "source": [
    "# import netrc\n",
    "# netrc = netrc.netrc()\n",
    "# remoteHostName = \"ooinet.oceanobservatories.org\"\n",
    "# info = netrc.authenticators(remoteHostName)\n",
    "# username = info[0]\n",
    "# token = info[2]"
   ]
  },
  {
   "cell_type": "markdown",
   "metadata": {},
   "source": [
    "### Setting up the data request url"
   ]
  },
  {
   "cell_type": "markdown",
   "metadata": {},
   "source": [
    "The ingredients entered below and used to build the m2m data request url can be found at\n",
    "http://ooi.visualocean.net/instruments/view/RS03ASHS-MJ03B-10-CTDPFB304. You need the reference designator, delivery method and stream name. To request all available data, no start and end time needs to be specified."
   ]
  },
  {
   "cell_type": "code",
   "execution_count": 3,
   "metadata": {
    "collapsed": true
   },
   "outputs": [],
   "source": [
    "reference_designator = 'RS03ASHS-MJ03B-10-CTDPFB304'\n",
    "method = 'streamed'\n",
    "stream = 'ctdpf_optode_sample'\n",
    "# beginDT = '2014-09-27T01:01:01.000Z' #example format to specify a specific time range\n",
    "beginDT = None\n",
    "endDT = None"
   ]
  },
  {
   "cell_type": "markdown",
   "metadata": {},
   "source": [
    "In the next step we will build the data request url and specify the parameters."
   ]
  },
  {
   "cell_type": "code",
   "execution_count": 4,
   "metadata": {
    "collapsed": true
   },
   "outputs": [],
   "source": [
    "base_url = 'https://ooinet.oceanobservatories.org/api/m2m/12576/sensor/inv'\n",
    "\n",
    "subsite = reference_designator[:8]\n",
    "node = reference_designator[9:14]\n",
    "sensor = reference_designator[15:27]\n",
    "\n",
    "data_request_url ='/'.join((base_url,subsite,node,sensor,method,stream))\n",
    "\n",
    "params = {\n",
    "    'beginDT':beginDT,\n",
    "    'endDT':endDT,   \n",
    "}"
   ]
  },
  {
   "cell_type": "markdown",
   "metadata": {},
   "source": [
    "### Requesting the data\n",
    "\n",
    "Next we will send off the request. When you send in a request to the api, you receive a response that lets you know if the response was successful. A 200 level code means OK, while a 400 or 500 level code means somethign went wrong."
   ]
  },
  {
   "cell_type": "code",
   "execution_count": 5,
   "metadata": {
    "collapsed": true
   },
   "outputs": [],
   "source": [
    "import requests\n",
    "import time"
   ]
  },
  {
   "cell_type": "code",
   "execution_count": 6,
   "metadata": {
    "collapsed": false
   },
   "outputs": [
    {
     "data": {
      "text/plain": [
       "<Response [200]>"
      ]
     },
     "execution_count": 6,
     "metadata": {},
     "output_type": "execute_result"
    }
   ],
   "source": [
    "r = requests.get(data_request_url, params=params, auth=(username, token))\n",
    "r"
   ]
  },
  {
   "cell_type": "markdown",
   "metadata": {},
   "source": [
    "Next we can examine the content of the response, which tells us the url locations where the data is being delivered to. You could also specify it as r.text(), instead of r.json(), but the json format is generally preferred, as it is easier to parse."
   ]
  },
  {
   "cell_type": "code",
   "execution_count": 7,
   "metadata": {
    "collapsed": false
   },
   "outputs": [
    {
     "data": {
      "text/plain": [
       "{u'allURLs': [u'https://opendap.oceanobservatories.org/thredds/catalog/ooi/ooidatateam@gmail.com/20180226T162918-RS03ASHS-MJ03B-10-CTDPFB304-streamed-ctdpf_optode_sample/catalog.html',\n",
       "  u'https://opendap.oceanobservatories.org/async_results/ooidatateam@gmail.com/20180226T162918-RS03ASHS-MJ03B-10-CTDPFB304-streamed-ctdpf_optode_sample'],\n",
       " u'numberOfSubJobs': 97,\n",
       " u'outputURL': u'https://opendap.oceanobservatories.org/thredds/catalog/ooi/ooidatateam@gmail.com/20180226T162918-RS03ASHS-MJ03B-10-CTDPFB304-streamed-ctdpf_optode_sample/catalog.html',\n",
       " u'requestUUID': u'310a61ac-573a-46d5-955b-f9c939153d9a',\n",
       " u'sizeCalculation': 1031380962,\n",
       " u'timeCalculation': 4229}"
      ]
     },
     "execution_count": 7,
     "metadata": {},
     "output_type": "execute_result"
    }
   ],
   "source": [
    "urls = r.json()\n",
    "urls"
   ]
  },
  {
   "cell_type": "markdown",
   "metadata": {},
   "source": [
    "The first url in the response is the location on THREDDS where the data is being served."
   ]
  },
  {
   "cell_type": "code",
   "execution_count": 8,
   "metadata": {
    "collapsed": false
   },
   "outputs": [
    {
     "name": "stdout",
     "output_type": "stream",
     "text": [
      "https://opendap.oceanobservatories.org/thredds/catalog/ooi/ooidatateam@gmail.com/20180226T162918-RS03ASHS-MJ03B-10-CTDPFB304-streamed-ctdpf_optode_sample/catalog.html\n"
     ]
    }
   ],
   "source": [
    "print(urls['allURLs'][0])"
   ]
  },
  {
   "cell_type": "markdown",
   "metadata": {},
   "source": [
    "The second url in the response is the regular APACHE server location for the data. "
   ]
  },
  {
   "cell_type": "code",
   "execution_count": 9,
   "metadata": {
    "collapsed": false
   },
   "outputs": [
    {
     "name": "stdout",
     "output_type": "stream",
     "text": [
      "https://opendap.oceanobservatories.org/async_results/ooidatateam@gmail.com/20180226T162918-RS03ASHS-MJ03B-10-CTDPFB304-streamed-ctdpf_optode_sample\n"
     ]
    }
   ],
   "source": [
    "print(urls['allURLs'][1])"
   ]
  },
  {
   "cell_type": "markdown",
   "metadata": {},
   "source": [
    "We will use this second location to programatically check for a status.txt file to be written, containing the text 'request completed'. This indicates that the request is completed and the system has finished writing out the data to this location. This step may take a few minutes. "
   ]
  },
  {
   "cell_type": "code",
   "execution_count": 10,
   "metadata": {
    "collapsed": false
   },
   "outputs": [
    {
     "name": "stdout",
     "output_type": "stream",
     "text": [
      "request completed\n",
      "CPU times: user 2.42 s, sys: 177 ms, total: 2.59 s\n",
      "Wall time: 2min 33s\n"
     ]
    }
   ],
   "source": [
    "%%time\n",
    "check_complete = urls['allURLs'][1] + '/status.txt'\n",
    "for i in range(1800): \n",
    "    r = requests.get(check_complete)\n",
    "    if r.status_code == requests.codes.ok:\n",
    "        print('request completed')\n",
    "        break\n",
    "    else:\n",
    "        time.sleep(1)"
   ]
  },
  {
   "cell_type": "markdown",
   "metadata": {},
   "source": [
    "### Downloading the data\n",
    "Once the previous step has completed, you can go to APACHE server location `urls['allURLs'][1]` and click on the .nc files for manual direct download. Alternatively, you can set your script up to download the data programatically. The next step parses the url locations for the netCDF files and downloads them to your local machine into the current working directory."
   ]
  },
  {
   "cell_type": "code",
   "execution_count": 11,
   "metadata": {
    "collapsed": true
   },
   "outputs": [],
   "source": [
    "import re\n",
    "import os\n",
    "import wget"
   ]
  },
  {
   "cell_type": "code",
   "execution_count": 12,
   "metadata": {
    "collapsed": true
   },
   "outputs": [],
   "source": [
    "url = urls['allURLs'][1]\n",
    "datasets = requests.get(url).text\n",
    "async_urls = re.findall(r'href=[\\'\"]?([^\\'\" >]+)', datasets)\n",
    "data_urls = []\n",
    "for i in async_urls:\n",
    "    if i[-3:] == '.nc':\n",
    "        data_urls.append(i)\n",
    "datasets = [os.path.join(url, i) for i in data_urls]\n",
    "\n",
    "for i in datasets:\n",
    "    wget.download(i)"
   ]
  },
  {
   "cell_type": "markdown",
   "metadata": {},
   "source": [
    "### Reading the data into your notebook without downloading the data\n",
    "\n",
    "Instead of downloading the data and then reading it into your notebook, you can also just read the data directly from the THREDDS location `urls['allURLs'][0]`."
   ]
  },
  {
   "cell_type": "code",
   "execution_count": 14,
   "metadata": {
    "collapsed": false
   },
   "outputs": [
    {
     "data": {
      "text/plain": [
       "[u'https://opendap.oceanobservatories.org/thredds/dodsC/ooi/ooidatateam@gmail.com/20180226T162918-RS03ASHS-MJ03B-10-CTDPFB304-streamed-ctdpf_optode_sample/deployment0003_RS03ASHS-MJ03B-10-CTDPFB304-streamed-ctdpf_optode_sample_20180209T000001.011622-20180226T162916.896287.nc',\n",
       " u'https://opendap.oceanobservatories.org/thredds/dodsC/ooi/ooidatateam@gmail.com/20180226T162918-RS03ASHS-MJ03B-10-CTDPFB304-streamed-ctdpf_optode_sample/deployment0003_RS03ASHS-MJ03B-10-CTDPFB304-streamed-ctdpf_optode_sample_20171111T000000.095894-20180208T235959.992602.nc',\n",
       " u'https://opendap.oceanobservatories.org/thredds/dodsC/ooi/ooidatateam@gmail.com/20180226T162918-RS03ASHS-MJ03B-10-CTDPFB304-streamed-ctdpf_optode_sample/deployment0003_RS03ASHS-MJ03B-10-CTDPFB304-streamed-ctdpf_optode_sample_20170817T215324.802075-20171110T235959.074888.nc']"
      ]
     },
     "execution_count": 14,
     "metadata": {},
     "output_type": "execute_result"
    }
   ],
   "source": [
    "url = urls['allURLs'][0]\n",
    "tds_url = 'https://opendap.oceanobservatories.org/thredds/dodsC'\n",
    "datasets = requests.get(url).text\n",
    "thredds_urls = re.findall(r'href=[\\'\"]?([^\\'\" >]+)', datasets)\n",
    "data_urls = []\n",
    "for i in thredds_urls:\n",
    "    if i[-3:] == '.nc':\n",
    "        i = i[21:]\n",
    "        data_urls.append(i)\n",
    "datasets = [os.path.join(tds_url, i) for i in data_urls]\n",
    "datasets"
   ]
  },
  {
   "cell_type": "markdown",
   "metadata": {},
   "source": [
    "Now we have a list of files on THREDDS, that xarray can read directly into the notebook. INstead of giving xarray the list of NetCDF file urls on THREDDS, you could also specify the directory on your local machine containing the .nc files."
   ]
  },
  {
   "cell_type": "code",
   "execution_count": 15,
   "metadata": {
    "collapsed": true
   },
   "outputs": [],
   "source": [
    "import xarray as xr\n",
    "import pandas as pd"
   ]
  },
  {
   "cell_type": "code",
   "execution_count": 16,
   "metadata": {
    "collapsed": false
   },
   "outputs": [
    {
     "name": "stdout",
     "output_type": "stream",
     "text": [
      "[########################################] | 100% Completed |  2.5s\n",
      "CPU times: user 1min 51s, sys: 5.01 s, total: 1min 56s\n",
      "Wall time: 1min 54s\n"
     ]
    }
   ],
   "source": [
    "%%time\n",
    "from dask.diagnostics import ProgressBar\n",
    "with ProgressBar():\n",
    "    ds = xr.open_mfdataset(datasets)\n",
    "    ds = ds.swap_dims({'obs': 'time'})\n",
    "    ds = ds.chunk({'time': 100})"
   ]
  },
  {
   "cell_type": "code",
   "execution_count": 21,
   "metadata": {
    "collapsed": false
   },
   "outputs": [
    {
     "data": {
      "text/plain": [
       "<xarray.Dataset>\n",
       "Dimensions:                (time: 15926011)\n",
       "Coordinates:\n",
       "    obs                    (time) int64 dask.array<shape=(15926011,), chunksize=(100,)>\n",
       "  * time                   (time) datetime64[ns] 2018-02-09T00:00:01.011621888 ...\n",
       "    lat                    (time) float64 dask.array<shape=(15926011,), chunksize=(100,)>\n",
       "    lon                    (time) float64 dask.array<shape=(15926011,), chunksize=(100,)>\n",
       "Data variables:\n",
       "    deployment             (time) int32 dask.array<shape=(15926011,), chunksize=(100,)>\n",
       "    id                     (time) |S64 dask.array<shape=(15926011,), chunksize=(100,)>\n",
       "    conductivity           (time) float64 dask.array<shape=(15926011,), chunksize=(100,)>\n",
       "    driver_timestamp       (time) datetime64[ns] dask.array<shape=(15926011,), chunksize=(100,)>\n",
       "    ingestion_timestamp    (time) datetime64[ns] dask.array<shape=(15926011,), chunksize=(100,)>\n",
       "    internal_timestamp     (time) datetime64[ns] dask.array<shape=(15926011,), chunksize=(100,)>\n",
       "    oxy_calphase           (time) float64 dask.array<shape=(15926011,), chunksize=(100,)>\n",
       "    oxy_temp               (time) float64 dask.array<shape=(15926011,), chunksize=(100,)>\n",
       "    oxygen                 (time) float64 dask.array<shape=(15926011,), chunksize=(100,)>\n",
       "    port_timestamp         (time) datetime64[ns] dask.array<shape=(15926011,), chunksize=(100,)>\n",
       "    preferred_timestamp    (time) object dask.array<shape=(15926011,), chunksize=(100,)>\n",
       "    pressure               (time) float64 dask.array<shape=(15926011,), chunksize=(100,)>\n",
       "    pressure_temp          (time) float64 dask.array<shape=(15926011,), chunksize=(100,)>\n",
       "    provenance             (time) |S64 dask.array<shape=(15926011,), chunksize=(100,)>\n",
       "    quality_flag           (time) |S64 dask.array<shape=(15926011,), chunksize=(100,)>\n",
       "    temperature            (time) float64 dask.array<shape=(15926011,), chunksize=(100,)>\n",
       "    seawater_temperature   (time) float64 dask.array<shape=(15926011,), chunksize=(100,)>\n",
       "    seawater_pressure      (time) float64 dask.array<shape=(15926011,), chunksize=(100,)>\n",
       "    seawater_conductivity  (time) float64 dask.array<shape=(15926011,), chunksize=(100,)>\n",
       "    ctd_tc_oxygen          (time) float64 dask.array<shape=(15926011,), chunksize=(100,)>\n",
       "    practical_salinity     (time) float64 dask.array<shape=(15926011,), chunksize=(100,)>\n",
       "    dissolved_oxygen       (time) float64 dask.array<shape=(15926011,), chunksize=(100,)>\n",
       "    density                (time) float64 dask.array<shape=(15926011,), chunksize=(100,)>\n",
       "Attributes:\n",
       "    _NCProperties:                      version=1|netcdflibversion=4.4.1.1|hd...\n",
       "    node:                               MJ03B\n",
       "    comment:                            \n",
       "    publisher_email:                    \n",
       "    sourceUrl:                          http://oceanobservatories.org/\n",
       "    collection_method:                  streamed\n",
       "    stream:                             ctdpf_optode_sample\n",
       "    featureType:                        point\n",
       "    creator_email:                      \n",
       "    publisher_name:                     Ocean Observatories Initiative\n",
       "    date_modified:                      2018-02-26T16:30:03.838360\n",
       "    keywords:                           \n",
       "    cdm_data_type:                      Point\n",
       "    references:                         More information can be found at http...\n",
       "    Metadata_Conventions:               Unidata Dataset Discovery v1.0\n",
       "    date_created:                       2018-02-26T16:30:03.838354\n",
       "    id:                                 RS03ASHS-MJ03B-10-CTDPFB304-streamed-...\n",
       "    requestUUID:                        d63131fc-923d-4798-8012-d47cfe555435\n",
       "    contributor_role:                   \n",
       "    summary:                            Dataset Generated by Stream Engine fr...\n",
       "    keywords_vocabulary:                \n",
       "    institution:                        Ocean Observatories Initiative\n",
       "    naming_authority:                   org.oceanobservatories\n",
       "    feature_Type:                       point\n",
       "    infoUrl:                            http://oceanobservatories.org/\n",
       "    license:                            \n",
       "    contributor_name:                   \n",
       "    uuid:                               d63131fc-923d-4798-8012-d47cfe555435\n",
       "    creator_name:                       Ocean Observatories Initiative\n",
       "    title:                              Data produced by Stream Engine versio...\n",
       "    sensor:                             10-CTDPFB304\n",
       "    standard_name_vocabulary:           NetCDF Climate and Forecast (CF) Meta...\n",
       "    acknowledgement:                    \n",
       "    Conventions:                        CF-1.6\n",
       "    project:                            Ocean Observatories Initiative\n",
       "    source:                             RS03ASHS-MJ03B-10-CTDPFB304-streamed-...\n",
       "    publisher_url:                      http://oceanobservatories.org/\n",
       "    creator_url:                        http://oceanobservatories.org/\n",
       "    nodc_template_version:              NODC_NetCDF_TimeSeries_Orthogonal_Tem...\n",
       "    subsite:                            RS03ASHS\n",
       "    processing_level:                   L2\n",
       "    history:                            2018-02-26T16:30:03.838279 generated ...\n",
       "    Manufacturer:                       Sea-Bird Electronics\n",
       "    ModelNumber:                        SBE 16plus V2\n",
       "    SerialNumber:                       16-50209\n",
       "    Description:                        CTD Profiler: CTDPF Series B\n",
       "    FirmwareVersion:                    3.1.8\n",
       "    SoftwareVersion:                    Not specified.\n",
       "    AssetUniqueID:                      ATCWK-67627-00006\n",
       "    Notes:                              Not specified.\n",
       "    Owner:                              University of Washington\n",
       "    RemoteResources:                    []\n",
       "    ShelfLifeExpirationDate:            Not specified.\n",
       "    Mobile:                             False\n",
       "    AssetManagementRecordLastModified:  2018-02-14T13:26:37.087000\n",
       "    time_coverage_start:                2018-02-09T00:00:01.011622\n",
       "    time_coverage_end:                  2018-02-26T16:29:16.896287\n",
       "    time_coverage_resolution:           P1.03S\n",
       "    geospatial_lat_min:                 45.93363\n",
       "    geospatial_lat_max:                 45.93363\n",
       "    geospatial_lat_units:               degrees_north\n",
       "    geospatial_lat_resolution:          0.1\n",
       "    geospatial_lon_min:                 -130.01368\n",
       "    geospatial_lon_max:                 -130.01368\n",
       "    geospatial_lon_units:               degrees_east\n",
       "    geospatial_lon_resolution:          0.1\n",
       "    geospatial_vertical_units:          meters\n",
       "    geospatial_vertical_resolution:     0.1\n",
       "    geospatial_vertical_positive:       down\n",
       "    DODS.strlen:                        2\n",
       "    DODS.dimName:                       string2\n",
       "    DODS_EXTRA.Unlimited_Dimension:     obs"
      ]
     },
     "execution_count": 21,
     "metadata": {},
     "output_type": "execute_result"
    }
   ],
   "source": [
    "ds"
   ]
  },
  {
   "cell_type": "code",
   "execution_count": 20,
   "metadata": {
    "collapsed": false
   },
   "outputs": [
    {
     "data": {
      "text/plain": [
       "[<matplotlib.lines.Line2D at 0x1cbad9610>]"
      ]
     },
     "execution_count": 20,
     "metadata": {},
     "output_type": "execute_result"
    },
    {
     "data": {
      "image/png": "[encoded data removed]",
      "text/plain": [
       "<matplotlib.figure.Figure at 0x1d1167550>"
      ]
     },
     "metadata": {},
     "output_type": "display_data"
    }
   ],
   "source": [
    "ds['seawater_temperature'].plot()"
   ]
  },
  {
   "cell_type": "code",
   "execution_count": 18,
   "metadata": {
    "collapsed": false
   },
   "outputs": [
    {
     "data": {
      "text/plain": [
       "[<matplotlib.lines.Line2D at 0x1bf298d90>]"
      ]
     },
     "execution_count": 18,
     "metadata": {},
     "output_type": "execute_result"
    },
    {
     "data": {
      "image/png": "[encoded data removed]",
      "text/plain": [
       "<matplotlib.figure.Figure at 0x1d1167ed0>"
      ]
     },
     "metadata": {},
     "output_type": "display_data"
    }
   ],
   "source": [
    "ds['practical_salinity'].plot()"
   ]
  },
  {
   "cell_type": "code",
   "execution_count": 19,
   "metadata": {
    "collapsed": false
   },
   "outputs": [
    {
     "data": {
      "text/plain": [
       "[<matplotlib.lines.Line2D at 0x15aa521d0>]"
      ]
     },
     "execution_count": 19,
     "metadata": {},
     "output_type": "execute_result"
    },
    {
     "data": {
      "image/png": "[encoded data removed]",
      "text/plain": [
       "<matplotlib.figure.Figure at 0x1bf2814d0>"
      ]
     },
     "metadata": {},
     "output_type": "display_data"
    }
   ],
   "source": [
    "ds['seawater_pressure'].plot()"
   ]
  },
  {
   "cell_type": "markdown",
   "metadata": {},
   "source": [
    "### Final note\n",
    "\n",
    "To view all data you have requested under your user, you can go to your user folder on THREDDS\n",
    "\n",
    "https://opendap.oceanobservatories.org/thredds/catalog/ooi/ooidatateam@gmail.com/catalog.html\n",
    "\n",
    "or APACHE\n",
    "\n",
    "https://opendap.oceanobservatories.org/async_results/ooidatateam@gmail.com/\n",
    "\n",
    "You do not need to download data from scratch every time you return to a notebook, rather can return to these locations to grab what you have previously downloaded. Data is preserved at these locations for up to 6 months."
   ]
  },
  {
   "cell_type": "code",
   "execution_count": null,
   "metadata": {
    "collapsed": true
   },
   "outputs": [],
   "source": []
  }
 ],
 "metadata": {
  "kernelspec": {
   "display_name": "ooi",
   "language": "python",
   "name": "ooi"
  },
  "language_info": {
   "codemirror_mode": {
    "name": "ipython",
    "version": 3
   },
   "file_extension": ".py",
   "mimetype": "text/x-python",
   "name": "python",
   "nbconvert_exporter": "python",
   "pygments_lexer": "ipython3",
   "version": "3.6.5"
  }
 },
 "nbformat": 4,
 "nbformat_minor": 2
}
