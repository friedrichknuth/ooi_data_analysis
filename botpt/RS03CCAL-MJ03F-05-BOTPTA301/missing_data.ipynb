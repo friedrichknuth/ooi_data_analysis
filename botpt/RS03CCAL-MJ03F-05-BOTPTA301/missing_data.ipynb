{
 "cells": [
  {
   "cell_type": "code",
   "execution_count": 33,
   "metadata": {},
   "outputs": [],
   "source": [
    "import requests\n",
    "import datetime"
   ]
  },
  {
   "cell_type": "code",
   "execution_count": 34,
   "metadata": {},
   "outputs": [],
   "source": [
    "username = ''\n",
    "token = ''"
   ]
  },
  {
   "cell_type": "code",
   "execution_count": 35,
   "metadata": {},
   "outputs": [],
   "source": [
    "refdes = 'RS03CCAL-MJ03F-05-BOTPTA301'\n",
    "method = 'streamed'\n",
    "stream = 'botpt_nano_sample'\n",
    "beginDT = '2017-08-11T02:54:28.000Z'\n",
    "endDT = '2017-08-11T02:54:29.000Z'"
   ]
  },
  {
   "cell_type": "code",
   "execution_count": 36,
   "metadata": {},
   "outputs": [],
   "source": [
    "base_url= 'https://ooinet.oceanobservatories.org/api/m2m/12576/sensor/inv/'\n",
    "subsite = refdes[:8]\n",
    "node = refdes[9:14]\n",
    "sensor = refdes[15:]\n",
    "\n",
    "data_request_url ='/'.join((base_url,subsite,node,sensor,method,stream))\n",
    "params = {\n",
    "    'beginDT':beginDT,\n",
    "    'endDT':endDT,\n",
    "    'limit':1000,   \n",
    "}\n",
    "\n",
    "r = requests.get(data_request_url, params=params,auth=(username, token))\n",
    "data = r.json()"
   ]
  },
  {
   "cell_type": "code",
   "execution_count": 37,
   "metadata": {},
   "outputs": [
    {
     "name": "stdout",
     "output_type": "stream",
     "text": [
      "2017-08-11 02:54:27.900000\n",
      "2017-08-11 02:54:27.950000\n",
      "2017-08-11 02:54:28\n",
      "2017-08-11 02:54:28.050000\n",
      "2017-08-11 02:54:28.100000\n",
      "2017-08-11 02:54:28.150000\n",
      "2017-08-11 02:54:28.200000\n",
      "2017-08-11 02:54:28.250000\n",
      "2017-08-11 02:54:28.300000\n",
      "2017-08-11 02:54:28.350000\n",
      "2017-08-11 02:54:28.400000\n",
      "2017-08-11 02:54:28.450000\n",
      "2017-08-11 02:54:28.500000\n",
      "2017-08-11 02:54:28.550000\n",
      "2017-08-11 02:54:28.600000\n",
      "2017-08-11 02:54:28.650000\n",
      "2017-08-11 02:54:28.700000\n",
      "2017-08-11 02:54:28.750000\n",
      "2017-08-11 02:54:28.800000\n",
      "2017-08-11 02:54:28.850000\n",
      "2017-08-11 02:54:28.900000\n",
      "2017-08-11 02:54:28.950000\n",
      "2017-08-11 02:54:29\n",
      "2017-08-11 02:54:29.050000\n",
      "2017-08-11 02:54:29.100000\n"
     ]
    }
   ],
   "source": [
    "ntp_epoch = datetime.datetime(1900, 1, 1)\n",
    "unix_epoch = datetime.datetime(1970, 1, 1)\n",
    "ntp_delta = (unix_epoch - ntp_epoch).total_seconds()\n",
    "\n",
    "for i in range(len(data)):\n",
    "    timestamp = data[i]['time']\n",
    "    timestamp = datetime.datetime.utcfromtimestamp(timestamp - ntp_delta)\n",
    "    print(timestamp)"
   ]
  },
  {
   "cell_type": "code",
   "execution_count": 38,
   "metadata": {},
   "outputs": [],
   "source": [
    "import re\n",
    "import xarray  as  xr\n",
    "import pandas  as  pd\n",
    "import os\n",
    "import time"
   ]
  },
  {
   "cell_type": "code",
   "execution_count": 46,
   "metadata": {},
   "outputs": [],
   "source": [
    "params = {\n",
    "    'beginDT':beginDT,\n",
    "    'endDT':endDT,   \n",
    "}\n",
    "r = requests.get(data_request_url, params=params,auth=(username, token))\n",
    "urls = r.json()"
   ]
  },
  {
   "cell_type": "code",
   "execution_count": 48,
   "metadata": {},
   "outputs": [
    {
     "name": "stdout",
     "output_type": "stream",
     "text": [
      "request completed\n"
     ]
    }
   ],
   "source": [
    "check_complete = urls['allURLs'][1] + '/status.txt'\n",
    "for i in range(1800): \n",
    "    r = requests.get(check_complete)\n",
    "    if r.status_code == requests.codes.ok:\n",
    "        print('request completed')\n",
    "        break\n",
    "    else:\n",
    "        time.sleep(1)"
   ]
  },
  {
   "cell_type": "code",
   "execution_count": 49,
   "metadata": {},
   "outputs": [
    {
     "data": {
      "text/plain": [
       "['https://opendap.oceanobservatories.org/thredds/dodsC/ooi/ooidatateam@gmail.com/20180514T184646-RS03CCAL-MJ03F-05-BOTPTA301-streamed-botpt_nano_sample/deployment0001_RS03CCAL-MJ03F-05-BOTPTA301-streamed-botpt_nano_sample_20170811T025427.900000-20170811T025429.100000.nc']"
      ]
     },
     "execution_count": 49,
     "metadata": {},
     "output_type": "execute_result"
    }
   ],
   "source": [
    "url = urls['allURLs'][0]\n",
    "tds_url = 'https://opendap.oceanobservatories.org/thredds/dodsC'\n",
    "datasets = requests.get(url).text\n",
    "urls = re.findall(r'href=[\\'\"]?([^\\'\" >]+)', datasets)\n",
    "x = re.findall(r'(ooi/.*?.nc)', datasets)\n",
    "for i in x:\n",
    "    if i.endswith('.nc') == False:\n",
    "        x.remove(i)\n",
    "for i in x:\n",
    "    try:\n",
    "        float(i[-4])\n",
    "    except:\n",
    "        x.remove(i)\n",
    "datasets = [os.path.join(tds_url, i) for i in x]\n",
    "datasets"
   ]
  },
  {
   "cell_type": "code",
   "execution_count": 50,
   "metadata": {},
   "outputs": [],
   "source": [
    "ds = xr.open_mfdataset(datasets)\n",
    "ds = ds.swap_dims({'obs': 'time'})"
   ]
  },
  {
   "cell_type": "code",
   "execution_count": 51,
   "metadata": {},
   "outputs": [
    {
     "name": "stdout",
     "output_type": "stream",
     "text": [
      "2017-08-11T02:54:27.900000256\n",
      "2017-08-11T02:54:27.949999616\n",
      "2017-08-11T02:54:28.000000000\n",
      "2017-08-11T02:54:28.050000384\n",
      "2017-08-11T02:54:28.099999744\n",
      "2017-08-11T02:54:28.150000128\n",
      "2017-08-11T02:54:28.200000000\n",
      "2017-08-11T02:54:28.249999872\n",
      "2017-08-11T02:54:28.300000256\n",
      "2017-08-11T02:54:28.350000128\n",
      "2017-08-11T02:54:28.400000000\n",
      "2017-08-11T02:54:28.449999872\n",
      "2017-08-11T02:54:28.499999744\n",
      "2017-08-11T02:54:28.550000128\n",
      "2017-08-11T02:54:28.600000000\n",
      "2017-08-11T02:54:28.649999872\n",
      "2017-08-11T02:54:28.699999744\n",
      "2017-08-11T02:54:28.750000128\n",
      "2017-08-11T02:54:28.800000000\n",
      "2017-08-11T02:54:28.849999872\n",
      "2017-08-11T02:54:28.900000256\n",
      "2017-08-11T02:54:28.949999616\n",
      "2017-08-11T02:54:29.000000000\n",
      "2017-08-11T02:54:29.050000384\n",
      "2017-08-11T02:54:29.099999744\n"
     ]
    }
   ],
   "source": [
    "time_data = ds['time'].data\n",
    "for i in time_data: \n",
    "    print(i)"
   ]
  },
  {
   "cell_type": "code",
   "execution_count": null,
   "metadata": {},
   "outputs": [],
   "source": []
  },
  {
   "cell_type": "code",
   "execution_count": 54,
   "metadata": {},
   "outputs": [],
   "source": [
    "beginDT = '2017-08-11T01:00:00.000Z'\n",
    "endDT = '2017-08-11T04:00:00.000Z'\n",
    "\n",
    "params = {\n",
    "    'beginDT':beginDT,\n",
    "    'endDT':endDT,   \n",
    "}\n",
    "r = requests.get(data_request_url, params=params,auth=(username, token))\n",
    "urls = r.json()"
   ]
  },
  {
   "cell_type": "code",
   "execution_count": 55,
   "metadata": {},
   "outputs": [
    {
     "name": "stdout",
     "output_type": "stream",
     "text": [
      "request completed\n"
     ]
    }
   ],
   "source": [
    "check_complete = urls['allURLs'][1] + '/status.txt'\n",
    "for i in range(1800): \n",
    "    r = requests.get(check_complete)\n",
    "    if r.status_code == requests.codes.ok:\n",
    "        print('request completed')\n",
    "        break\n",
    "    else:\n",
    "        time.sleep(1)"
   ]
  },
  {
   "cell_type": "code",
   "execution_count": 56,
   "metadata": {},
   "outputs": [
    {
     "data": {
      "text/plain": [
       "'https://opendap.oceanobservatories.org/thredds/catalog/ooi/ooidatateam@gmail.com/20180514T185335-RS03CCAL-MJ03F-05-BOTPTA301-streamed-botpt_nano_sample/catalog.html'"
      ]
     },
     "execution_count": 56,
     "metadata": {},
     "output_type": "execute_result"
    }
   ],
   "source": [
    "urls['allURLs'][0]"
   ]
  },
  {
   "cell_type": "code",
   "execution_count": 57,
   "metadata": {},
   "outputs": [
    {
     "data": {
      "text/plain": [
       "['https://opendap.oceanobservatories.org/thredds/dodsC/ooi/ooidatateam@gmail.com/20180514T185335-RS03CCAL-MJ03F-05-BOTPTA301-streamed-botpt_nano_sample/deployment0001_RS03CCAL-MJ03F-05-BOTPTA301-streamed-botpt_nano_sample_20170811T005959.900000-20170811T040000.100000.nc']"
      ]
     },
     "execution_count": 57,
     "metadata": {},
     "output_type": "execute_result"
    }
   ],
   "source": [
    "url = urls['allURLs'][0]\n",
    "tds_url = 'https://opendap.oceanobservatories.org/thredds/dodsC'\n",
    "datasets = requests.get(url).text\n",
    "urls = re.findall(r'href=[\\'\"]?([^\\'\" >]+)', datasets)\n",
    "x = re.findall(r'(ooi/.*?.nc)', datasets)\n",
    "for i in x:\n",
    "    if i.endswith('.nc') == False:\n",
    "        x.remove(i)\n",
    "for i in x:\n",
    "    try:\n",
    "        float(i[-4])\n",
    "    except:\n",
    "        x.remove(i)\n",
    "datasets = [os.path.join(tds_url, i) for i in x]\n",
    "datasets"
   ]
  },
  {
   "cell_type": "code",
   "execution_count": 58,
   "metadata": {},
   "outputs": [],
   "source": [
    "ds = xr.open_mfdataset(datasets)\n",
    "ds = ds.swap_dims({'obs': 'time'})"
   ]
  },
  {
   "cell_type": "code",
   "execution_count": 59,
   "metadata": {},
   "outputs": [
    {
     "name": "stdout",
     "output_type": "stream",
     "text": [
      "2017-08-11T01:54:27.400000000\n",
      "2017-08-11T01:54:27.449999872\n",
      "2017-08-11T01:54:27.500000256\n",
      "2017-08-11T01:54:27.550000128\n",
      "2017-08-11T01:54:27.600000000\n",
      "2017-08-11T01:54:27.649999872\n",
      "2017-08-11T01:54:27.699999744\n",
      "2017-08-11T01:54:27.750000128\n",
      "2017-08-11T01:54:27.800000000\n",
      "2017-08-11T01:54:27.849999872\n",
      "2017-08-11T01:54:27.900000256\n",
      "2017-08-11T01:54:27.949999616\n",
      "2017-08-11T01:54:28.000000000\n",
      "2017-08-11T01:54:28.050000384\n",
      "2017-08-11T01:54:28.099999744\n",
      "2017-08-11T01:54:28.150000128\n",
      "2017-08-11T01:54:28.200000000\n",
      "2017-08-11T01:54:28.249999872\n",
      "2017-08-11T01:54:28.300000256\n",
      "2017-08-11T01:54:28.350000128\n",
      "2017-08-11T01:54:28.400000000\n",
      "2017-08-11T01:54:28.449999872\n",
      "2017-08-11T01:54:28.499999744\n",
      "2017-08-11T01:54:28.550000128\n",
      "2017-08-11T01:54:28.600000000\n",
      "2017-08-11T01:54:28.649999872\n",
      "2017-08-11T01:54:28.699999744\n",
      "2017-08-11T01:54:28.750000128\n",
      "2017-08-11T01:54:28.800000000\n",
      "2017-08-11T01:54:28.849999872\n"
     ]
    }
   ],
   "source": [
    "time_data = ds['time'].data\n",
    "for i in time_data[65350:65380]: \n",
    "    print(i)"
   ]
  },
  {
   "cell_type": "code",
   "execution_count": null,
   "metadata": {},
   "outputs": [],
   "source": []
  }
 ],
 "metadata": {
  "kernelspec": {
   "display_name": "ooi",
   "language": "python",
   "name": "ooi"
  },
  "language_info": {
   "codemirror_mode": {
    "name": "ipython",
    "version": 3
   },
   "file_extension": ".py",
   "mimetype": "text/x-python",
   "name": "python",
   "nbconvert_exporter": "python",
   "pygments_lexer": "ipython3",
   "version": "3.6.5"
  }
 },
 "nbformat": 4,
 "nbformat_minor": 2
}
