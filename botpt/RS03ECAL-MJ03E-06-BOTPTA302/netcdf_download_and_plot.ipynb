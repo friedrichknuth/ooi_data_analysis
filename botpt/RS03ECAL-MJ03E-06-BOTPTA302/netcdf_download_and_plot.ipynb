{
 "cells": [
  {
   "cell_type": "markdown",
   "metadata": {},
   "source": [
    "### Authenticating with the M2M API\n",
    "\n",
    "Login in at https://ooinet.oceanobservatories.org/ and obtain your <b>API username and API token</b> under your profile (top right corner)."
   ]
  },
  {
   "cell_type": "code",
   "execution_count": 14,
   "metadata": {
    "collapsed": true
   },
   "outputs": [],
   "source": [
    "username = ''\n",
    "token = ''"
   ]
  },
  {
   "cell_type": "markdown",
   "metadata": {},
   "source": [
    "Optionally, you can handle authentication outside the notebook by setting up a .netrc file in your home directory and loading it with your bash profile. Open your terminal\n",
    "```\n",
    "$ touch .netrc\n",
    "$ chmod 700 .netrc\n",
    "$ vim .netrc\n",
    "\n",
    "```\n",
    "Add the following your your .netrc file:\n",
    "\n",
    "```\n",
    "machine ooinet.oceanobservatories.org\n",
    "login OOIAPI-TEMPD1SPK4K0X\n",
    "password TEMPCXL48ET2XT\n",
    "```\n",
    "\n",
    "Use your username and token. Save the file and uncomment the following cell."
   ]
  },
  {
   "cell_type": "code",
   "execution_count": 15,
   "metadata": {
    "collapsed": true
   },
   "outputs": [],
   "source": [
    "# import netrc\n",
    "# netrc = netrc.netrc()\n",
    "# remoteHostName = \"ooinet.oceanobservatories.org\"\n",
    "# info = netrc.authenticators(remoteHostName)\n",
    "# username = info[0]\n",
    "# token = info[2]"
   ]
  },
  {
   "cell_type": "markdown",
   "metadata": {},
   "source": [
    "### Setting up the data request url"
   ]
  },
  {
   "cell_type": "markdown",
   "metadata": {},
   "source": [
    "The ingredients entered below and used to build the m2m data request url can be found at\n",
    "http://ooi.visualocean.net/instruments/view/RS03ECAL-MJ03E-06-BOTPTA302. You need the reference designator, delivery method and stream name. To request all available data, no start and end time needs to be specified."
   ]
  },
  {
   "cell_type": "code",
   "execution_count": 16,
   "metadata": {
    "collapsed": true
   },
   "outputs": [],
   "source": [
    "reference_designator = 'RS03ECAL-MJ03E-06-BOTPTA302'\n",
    "method = 'streamed'\n",
    "stream = 'botpt_lily_sample'\n",
    "# beginDT = '2014-09-27T01:01:01.000Z' #example format to specify a specific time range\n",
    "beginDT = None\n",
    "endDT = None"
   ]
  },
  {
   "cell_type": "markdown",
   "metadata": {},
   "source": [
    "In the next step we will build the data request url and specify the parameters."
   ]
  },
  {
   "cell_type": "code",
   "execution_count": 17,
   "metadata": {
    "collapsed": true
   },
   "outputs": [],
   "source": [
    "base_url = 'https://ooinet.oceanobservatories.org/api/m2m/12576/sensor/inv'\n",
    "\n",
    "subsite = reference_designator[:8]\n",
    "node = reference_designator[9:14]\n",
    "sensor = reference_designator[15:27]\n",
    "\n",
    "data_request_url ='/'.join((base_url,subsite,node,sensor,method,stream))\n",
    "\n",
    "params = {\n",
    "    'beginDT':beginDT,\n",
    "    'endDT':endDT,   \n",
    "}"
   ]
  },
  {
   "cell_type": "markdown",
   "metadata": {},
   "source": [
    "### Requesting the data\n",
    "\n",
    "Next we will send off the request. When you send in a request to the api, you receive a response that lets you know if the response was successful. A 200 level code means OK, while a 400 or 500 level code means somethign went wrong."
   ]
  },
  {
   "cell_type": "code",
   "execution_count": 18,
   "metadata": {
    "collapsed": true
   },
   "outputs": [],
   "source": [
    "import requests\n",
    "import time"
   ]
  },
  {
   "cell_type": "code",
   "execution_count": 19,
   "metadata": {
    "collapsed": false
   },
   "outputs": [
    {
     "data": {
      "text/plain": [
       "<Response [200]>"
      ]
     },
     "execution_count": 19,
     "metadata": {},
     "output_type": "execute_result"
    }
   ],
   "source": [
    "r = requests.get(data_request_url, params=params, auth=(username, token))\n",
    "r"
   ]
  },
  {
   "cell_type": "markdown",
   "metadata": {},
   "source": [
    "Next we can examine the content of the response, which tells us the url locations where the data is being delivered to. You could also specify it as r.text(), instead of r.json(), but the json format is generally preferred, as it is easier to parse."
   ]
  },
  {
   "cell_type": "code",
   "execution_count": 20,
   "metadata": {
    "collapsed": false
   },
   "outputs": [
    {
     "data": {
      "text/plain": [
       "{u'allURLs': [u'https://opendap.oceanobservatories.org/thredds/catalog/ooi/ooidatateam@gmail.com/20180226T202756-RS03ECAL-MJ03E-06-BOTPTA302-streamed-botpt_lily_sample/catalog.html',\n",
       "  u'https://opendap.oceanobservatories.org/async_results/ooidatateam@gmail.com/20180226T202756-RS03ECAL-MJ03E-06-BOTPTA302-streamed-botpt_lily_sample'],\n",
       " u'numberOfSubJobs': 8795,\n",
       " u'outputURL': u'https://opendap.oceanobservatories.org/thredds/catalog/ooi/ooidatateam@gmail.com/20180226T202756-RS03ECAL-MJ03E-06-BOTPTA302-streamed-botpt_lily_sample/catalog.html',\n",
       " u'requestUUID': u'670da58f-d2c6-4f89-910d-eb195b2eb2b6',\n",
       " u'sizeCalculation': 4476292936,\n",
       " u'timeCalculation': 18353}"
      ]
     },
     "execution_count": 20,
     "metadata": {},
     "output_type": "execute_result"
    }
   ],
   "source": [
    "urls = r.json()\n",
    "urls"
   ]
  },
  {
   "cell_type": "markdown",
   "metadata": {},
   "source": [
    "The first url in the response is the location on THREDDS where the data is being served."
   ]
  },
  {
   "cell_type": "code",
   "execution_count": 21,
   "metadata": {
    "collapsed": false
   },
   "outputs": [
    {
     "name": "stdout",
     "output_type": "stream",
     "text": [
      "https://opendap.oceanobservatories.org/thredds/catalog/ooi/ooidatateam@gmail.com/20180226T202756-RS03ECAL-MJ03E-06-BOTPTA302-streamed-botpt_lily_sample/catalog.html\n"
     ]
    }
   ],
   "source": [
    "print(urls['allURLs'][0])"
   ]
  },
  {
   "cell_type": "markdown",
   "metadata": {},
   "source": [
    "The second url in the response is the regular APACHE server location for the data. "
   ]
  },
  {
   "cell_type": "code",
   "execution_count": 33,
   "metadata": {
    "collapsed": false
   },
   "outputs": [
    {
     "name": "stdout",
     "output_type": "stream",
     "text": [
      "https://opendap.oceanobservatories.org/async_results/ooidatateam@gmail.com/20180226T202756-RS03ECAL-MJ03E-06-BOTPTA302-streamed-botpt_lily_sample\n"
     ]
    }
   ],
   "source": [
    "print(urls['allURLs'][1])"
   ]
  },
  {
   "cell_type": "markdown",
   "metadata": {},
   "source": [
    "We will use this second location to programatically check for a status.txt file to be written, containing the text 'request completed'. This indicates that the request is completed and the system has finished writing out the data to this location. This step may take a few minutes. "
   ]
  },
  {
   "cell_type": "code",
   "execution_count": 23,
   "metadata": {
    "collapsed": false
   },
   "outputs": [
    {
     "name": "stdout",
     "output_type": "stream",
     "text": [
      "request completed\n",
      "CPU times: user 24.2 s, sys: 1.71 s, total: 25.9 s\n",
      "Wall time: 24min 53s\n"
     ]
    }
   ],
   "source": [
    "%%time\n",
    "check_complete = urls['allURLs'][1] + '/status.txt'\n",
    "for i in range(1800): \n",
    "    r = requests.get(check_complete)\n",
    "    if r.status_code == requests.codes.ok:\n",
    "        print('request completed')\n",
    "        break\n",
    "    else:\n",
    "        time.sleep(1)"
   ]
  },
  {
   "cell_type": "markdown",
   "metadata": {},
   "source": [
    "### Reading the data into your notebook without downloading the data\n",
    "\n",
    "Instead of downloading the data and then reading it into your notebook, you can also just read the data directly from the THREDDS location `urls['allURLs'][0]`."
   ]
  },
  {
   "cell_type": "code",
   "execution_count": 25,
   "metadata": {
    "collapsed": false
   },
   "outputs": [
    {
     "data": {
      "text/plain": [
       "[u'https://opendap.oceanobservatories.org/thredds/dodsC/ooi/ooidatateam@gmail.com/20180226T202756-RS03ECAL-MJ03E-06-BOTPTA302-streamed-botpt_lily_sample/deployment0001_RS03ECAL-MJ03E-06-BOTPTA302-streamed-botpt_lily_sample_20180113T000000-20180226T202752.nc',\n",
       " u'https://opendap.oceanobservatories.org/thredds/dodsC/ooi/ooidatateam@gmail.com/20180226T202756-RS03ECAL-MJ03E-06-BOTPTA302-streamed-botpt_lily_sample/deployment0001_RS03ECAL-MJ03E-06-BOTPTA302-streamed-botpt_lily_sample_20170830T000000-20180112T235959.nc',\n",
       " u'https://opendap.oceanobservatories.org/thredds/dodsC/ooi/ooidatateam@gmail.com/20180226T202756-RS03ECAL-MJ03E-06-BOTPTA302-streamed-botpt_lily_sample/deployment0001_RS03ECAL-MJ03E-06-BOTPTA302-streamed-botpt_lily_sample_20170420T000000-20170829T235959.nc',\n",
       " u'https://opendap.oceanobservatories.org/thredds/dodsC/ooi/ooidatateam@gmail.com/20180226T202756-RS03ECAL-MJ03E-06-BOTPTA302-streamed-botpt_lily_sample/deployment0001_RS03ECAL-MJ03E-06-BOTPTA302-streamed-botpt_lily_sample_20161209T000000-20170419T235959.nc',\n",
       " u'https://opendap.oceanobservatories.org/thredds/dodsC/ooi/ooidatateam@gmail.com/20180226T202756-RS03ECAL-MJ03E-06-BOTPTA302-streamed-botpt_lily_sample/deployment0001_RS03ECAL-MJ03E-06-BOTPTA302-streamed-botpt_lily_sample_20160730T000000-20161208T235959.nc',\n",
       " u'https://opendap.oceanobservatories.org/thredds/dodsC/ooi/ooidatateam@gmail.com/20180226T202756-RS03ECAL-MJ03E-06-BOTPTA302-streamed-botpt_lily_sample/deployment0001_RS03ECAL-MJ03E-06-BOTPTA302-streamed-botpt_lily_sample_20160318T000000-20160729T235959.nc',\n",
       " u'https://opendap.oceanobservatories.org/thredds/dodsC/ooi/ooidatateam@gmail.com/20180226T202756-RS03ECAL-MJ03E-06-BOTPTA302-streamed-botpt_lily_sample/deployment0001_RS03ECAL-MJ03E-06-BOTPTA302-streamed-botpt_lily_sample_20151109T000000-20160317T235959.nc',\n",
       " u'https://opendap.oceanobservatories.org/thredds/dodsC/ooi/ooidatateam@gmail.com/20180226T202756-RS03ECAL-MJ03E-06-BOTPTA302-streamed-botpt_lily_sample/deployment0001_RS03ECAL-MJ03E-06-BOTPTA302-streamed-botpt_lily_sample_20150622T000000-20151108T235959.nc',\n",
       " u'https://opendap.oceanobservatories.org/thredds/dodsC/ooi/ooidatateam@gmail.com/20180226T202756-RS03ECAL-MJ03E-06-BOTPTA302-streamed-botpt_lily_sample/deployment0001_RS03ECAL-MJ03E-06-BOTPTA302-streamed-botpt_lily_sample_20150125T000000-20150621T235959.nc',\n",
       " u'https://opendap.oceanobservatories.org/thredds/dodsC/ooi/ooidatateam@gmail.com/20180226T202756-RS03ECAL-MJ03E-06-BOTPTA302-streamed-botpt_lily_sample/deployment0001_RS03ECAL-MJ03E-06-BOTPTA302-streamed-botpt_lily_sample_20140903T215025-20150124T235959.nc',\n",
       " u'https://opendap.oceanobservatories.org/thredds/dodsC/ooi/ooidatateam@gmail.com/20180226T202756-RS03ECAL-MJ03E-06-BOTPTA302-streamed-botpt_lily_sample/deployment0000_RS03ECAL-MJ03E-06-BOTPTA302-streamed-botpt_lily_sample_19700101T000140-19700101T000419.nc']"
      ]
     },
     "execution_count": 25,
     "metadata": {},
     "output_type": "execute_result"
    }
   ],
   "source": [
    "url = urls['allURLs'][0]\n",
    "tds_url = 'https://opendap.oceanobservatories.org/thredds/dodsC'\n",
    "datasets = requests.get(url).text\n",
    "thredds_urls = re.findall(r'href=[\\'\"]?([^\\'\" >]+)', datasets)\n",
    "data_urls = []\n",
    "for i in thredds_urls:\n",
    "    if i[-3:] == '.nc':\n",
    "        i = i[21:]\n",
    "        data_urls.append(i)\n",
    "datasets = [os.path.join(tds_url, i) for i in data_urls]\n",
    "datasets"
   ]
  },
  {
   "cell_type": "markdown",
   "metadata": {},
   "source": [
    "Now we have a list of files on THREDDS, that xarray can read directly into the notebook. We will look at the first two files for the purpose of check x and y tilt labelling. "
   ]
  },
  {
   "cell_type": "code",
   "execution_count": 26,
   "metadata": {
    "collapsed": true
   },
   "outputs": [],
   "source": [
    "import xarray as xr\n",
    "import pandas as pd"
   ]
  },
  {
   "cell_type": "code",
   "execution_count": 29,
   "metadata": {
    "collapsed": false
   },
   "outputs": [
    {
     "name": "stdout",
     "output_type": "stream",
     "text": [
      "[########################################] | 100% Completed |  3.2s\n",
      "CPU times: user 1min 38s, sys: 4.33 s, total: 1min 42s\n",
      "Wall time: 1min 42s\n"
     ]
    }
   ],
   "source": [
    "%%time\n",
    "from dask.diagnostics import ProgressBar\n",
    "with ProgressBar():\n",
    "    ds = xr.open_mfdataset(datasets[0:2])\n",
    "    ds = ds.swap_dims({'obs': 'time'})\n",
    "    ds = ds.chunk({'time': 100})"
   ]
  },
  {
   "cell_type": "code",
   "execution_count": 30,
   "metadata": {
    "collapsed": false
   },
   "outputs": [
    {
     "data": {
      "text/plain": [
       "<xarray.Dataset>\n",
       "Dimensions:                      (time: 15192311)\n",
       "Coordinates:\n",
       "    obs                          (time) int64 dask.array<shape=(15192311,), chunksize=(100,)>\n",
       "  * time                         (time) datetime64[ns] 2018-01-13 ...\n",
       "    lat                          (time) float64 dask.array<shape=(15192311,), chunksize=(100,)>\n",
       "    lon                          (time) float64 dask.array<shape=(15192311,), chunksize=(100,)>\n",
       "Data variables:\n",
       "    deployment                   (time) int32 dask.array<shape=(15192311,), chunksize=(100,)>\n",
       "    id                           (time) |S64 dask.array<shape=(15192311,), chunksize=(100,)>\n",
       "    compass_direction            (time) float64 dask.array<shape=(15192311,), chunksize=(100,)>\n",
       "    date_time_string             (time) object dask.array<shape=(15192311,), chunksize=(100,)>\n",
       "    driver_timestamp             (time) datetime64[ns] dask.array<shape=(15192311,), chunksize=(100,)>\n",
       "    ingestion_timestamp          (time) datetime64[ns] dask.array<shape=(15192311,), chunksize=(100,)>\n",
       "    internal_timestamp           (time) datetime64[ns] dask.array<shape=(15192311,), chunksize=(100,)>\n",
       "    lily_temp                    (time) float64 dask.array<shape=(15192311,), chunksize=(100,)>\n",
       "    lily_x_tilt                  (time) float64 dask.array<shape=(15192311,), chunksize=(100,)>\n",
       "    lily_y_tilt                  (time) float64 dask.array<shape=(15192311,), chunksize=(100,)>\n",
       "    port_timestamp               (time) datetime64[ns] dask.array<shape=(15192311,), chunksize=(100,)>\n",
       "    preferred_timestamp          (time) object dask.array<shape=(15192311,), chunksize=(100,)>\n",
       "    provenance                   (time) |S64 dask.array<shape=(15192311,), chunksize=(100,)>\n",
       "    quality_flag                 (time) |S64 dask.array<shape=(15192311,), chunksize=(100,)>\n",
       "    sensor_id                    (time) object dask.array<shape=(15192311,), chunksize=(100,)>\n",
       "    serial_number                (time) object dask.array<shape=(15192311,), chunksize=(100,)>\n",
       "    supply_voltage               (time) float64 dask.array<shape=(15192311,), chunksize=(100,)>\n",
       "    corrected_compass_direction  (time) float64 dask.array<shape=(15192311,), chunksize=(100,)>\n",
       "    seafloor_tilt_magnitude      (time) float64 dask.array<shape=(15192311,), chunksize=(100,)>\n",
       "    seafloor_tilt_direction      (time) float64 dask.array<shape=(15192311,), chunksize=(100,)>\n",
       "Attributes:\n",
       "    _NCProperties:                      version=1|netcdflibversion=4.4.1.1|hd...\n",
       "    node:                               MJ03E\n",
       "    comment:                            \n",
       "    publisher_email:                    \n",
       "    sourceUrl:                          http://oceanobservatories.org/\n",
       "    collection_method:                  streamed\n",
       "    stream:                             botpt_lily_sample\n",
       "    featureType:                        point\n",
       "    creator_email:                      \n",
       "    publisher_name:                     Ocean Observatories Initiative\n",
       "    date_modified:                      2018-02-26T20:38:10.053302\n",
       "    keywords:                           \n",
       "    cdm_data_type:                      Point\n",
       "    references:                         More information can be found at http...\n",
       "    Metadata_Conventions:               Unidata Dataset Discovery v1.0\n",
       "    date_created:                       2018-02-26T20:38:10.053295\n",
       "    id:                                 RS03ECAL-MJ03E-06-BOTPTA302-streamed-...\n",
       "    requestUUID:                        dbf1723d-7d48-4793-81ff-ec0760c54544\n",
       "    contributor_role:                   \n",
       "    summary:                            Dataset Generated by Stream Engine fr...\n",
       "    keywords_vocabulary:                \n",
       "    institution:                        Ocean Observatories Initiative\n",
       "    naming_authority:                   org.oceanobservatories\n",
       "    feature_Type:                       point\n",
       "    infoUrl:                            http://oceanobservatories.org/\n",
       "    license:                            \n",
       "    contributor_name:                   \n",
       "    uuid:                               dbf1723d-7d48-4793-81ff-ec0760c54544\n",
       "    creator_name:                       Ocean Observatories Initiative\n",
       "    title:                              Data produced by Stream Engine versio...\n",
       "    sensor:                             06-BOTPTA302\n",
       "    standard_name_vocabulary:           NetCDF Climate and Forecast (CF) Meta...\n",
       "    acknowledgement:                    \n",
       "    Conventions:                        CF-1.6\n",
       "    project:                            Ocean Observatories Initiative\n",
       "    source:                             RS03ECAL-MJ03E-06-BOTPTA302-streamed-...\n",
       "    publisher_url:                      http://oceanobservatories.org/\n",
       "    creator_url:                        http://oceanobservatories.org/\n",
       "    nodc_template_version:              NODC_NetCDF_TimeSeries_Orthogonal_Tem...\n",
       "    subsite:                            RS03ECAL\n",
       "    processing_level:                   L2\n",
       "    history:                            2018-02-26T20:38:10.053222 generated ...\n",
       "    Manufacturer:                       NOAA-PMEL\n",
       "    ModelNumber:                        Custom\n",
       "    SerialNumber:                       7\n",
       "    Description:                        Bottom Pressure and Tilt: BOTPT Series A\n",
       "    FirmwareVersion:                    Not specified.\n",
       "    SoftwareVersion:                    Not specified.\n",
       "    AssetUniqueID:                      ATAPL-58316-00004\n",
       "    Notes:                              Not specified.\n",
       "    Owner:                              University of Washington\n",
       "    RemoteResources:                    []\n",
       "    ShelfLifeExpirationDate:            Not specified.\n",
       "    Mobile:                             False\n",
       "    AssetManagementRecordLastModified:  2018-02-14T13:26:44.688000\n",
       "    time_coverage_start:                2018-01-13T00:00:00\n",
       "    time_coverage_end:                  2018-02-26T20:27:52\n",
       "    time_coverage_resolution:           P1.02S\n",
       "    geospatial_lat_min:                 45.93986\n",
       "    geospatial_lat_max:                 45.93986\n",
       "    geospatial_lat_units:               degrees_north\n",
       "    geospatial_lat_resolution:          0.1\n",
       "    geospatial_lon_min:                 -129.97417\n",
       "    geospatial_lon_max:                 -129.97417\n",
       "    geospatial_lon_units:               degrees_east\n",
       "    geospatial_lon_resolution:          0.1\n",
       "    geospatial_vertical_units:          meters\n",
       "    geospatial_vertical_resolution:     0.1\n",
       "    geospatial_vertical_positive:       down\n",
       "    DODS.strlen:                        5\n",
       "    DODS.dimName:                       string5\n",
       "    DODS_EXTRA.Unlimited_Dimension:     obs"
      ]
     },
     "execution_count": 30,
     "metadata": {},
     "output_type": "execute_result"
    }
   ],
   "source": [
    "ds"
   ]
  },
  {
   "cell_type": "code",
   "execution_count": 31,
   "metadata": {
    "collapsed": false
   },
   "outputs": [
    {
     "data": {
      "text/plain": [
       "<xarray.DataArray 'lily_x_tilt' (time: 15192311)>\n",
       "dask.array<shape=(15192311,), dtype=float64, chunksize=(100,)>\n",
       "Coordinates:\n",
       "    obs      (time) int64 dask.array<shape=(15192311,), chunksize=(100,)>\n",
       "  * time     (time) datetime64[ns] 2018-01-13 2018-01-13T00:00:01 ...\n",
       "    lat      (time) float64 dask.array<shape=(15192311,), chunksize=(100,)>\n",
       "    lon      (time) float64 dask.array<shape=(15192311,), chunksize=(100,)>\n",
       "Attributes:\n",
       "    comment:                  Seafloor High-Resolution Tilt measurements are ...\n",
       "    long_name:                High-Resolution X-Tilt\n",
       "    data_product_identifier:  BOTTILT-XTLT_L0\n",
       "    units:                    urad\n",
       "    _ChunkSizes:              10000"
      ]
     },
     "execution_count": 31,
     "metadata": {},
     "output_type": "execute_result"
    }
   ],
   "source": [
    "ds['lily_x_tilt']"
   ]
  },
  {
   "cell_type": "code",
   "execution_count": 32,
   "metadata": {
    "collapsed": false
   },
   "outputs": [
    {
     "data": {
      "text/plain": [
       "<xarray.DataArray 'lily_y_tilt' (time: 15192311)>\n",
       "dask.array<shape=(15192311,), dtype=float64, chunksize=(100,)>\n",
       "Coordinates:\n",
       "    obs      (time) int64 dask.array<shape=(15192311,), chunksize=(100,)>\n",
       "  * time     (time) datetime64[ns] 2018-01-13 2018-01-13T00:00:01 ...\n",
       "    lat      (time) float64 dask.array<shape=(15192311,), chunksize=(100,)>\n",
       "    lon      (time) float64 dask.array<shape=(15192311,), chunksize=(100,)>\n",
       "Attributes:\n",
       "    comment:                  Seafloor High-Resolution Tilt measurements are ...\n",
       "    long_name:                High-Resolution Y-Tilt\n",
       "    data_product_identifier:  BOTTILT-YTLT_L0\n",
       "    units:                    urad\n",
       "    _ChunkSizes:              10000"
      ]
     },
     "execution_count": 32,
     "metadata": {},
     "output_type": "execute_result"
    }
   ],
   "source": [
    "ds['lily_y_tilt']"
   ]
  },
  {
   "cell_type": "code",
   "execution_count": null,
   "metadata": {
    "collapsed": true
   },
   "outputs": [],
   "source": []
  }
 ],
 "metadata": {
  "kernelspec": {
   "display_name": "ooi",
   "language": "python",
   "name": "ooi"
  },
  "language_info": {
   "codemirror_mode": {
    "name": "ipython",
    "version": 3
   },
   "file_extension": ".py",
   "mimetype": "text/x-python",
   "name": "python",
   "nbconvert_exporter": "python",
   "pygments_lexer": "ipython3",
   "version": "3.6.5"
  }
 },
 "nbformat": 4,
 "nbformat_minor": 2
}
