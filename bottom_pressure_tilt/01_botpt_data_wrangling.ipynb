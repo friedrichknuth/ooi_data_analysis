{
 "cells": [
  {
   "cell_type": "code",
   "execution_count": 33,
   "metadata": {
    "collapsed": true
   },
   "outputs": [],
   "source": [
    "from thredds_crawler.crawl import Crawl\n",
    "import matplotlib.pyplot as plt\n",
    "import xarray as xr\n",
    "import pandas as pd\n",
    "import pickle as pk\n",
    "import subprocess\n",
    "import os\n",
    "import gc"
   ]
  },
  {
   "cell_type": "markdown",
   "metadata": {},
   "source": [
    "In this example we will explore data from a Bottom Pressure and Tilt (BOTPT) sensor in the Central Caldera location of Axial Seamount.  It is one of 4 BOTPT sensors in the OOI Cabled Array System. http://ooi.visualocean.net/instruments/all#search=botpt\n",
    "\n",
    "Each instrument is sampling bottom pressure and tilt at 20 Hz. Thus, 3 years of data from the instrument is a sizeable amount and poses some difficulty during processing and analysis.\n",
    "\n",
    "Because of the size in data and the fact that OOI data is processed on demand, we have staged a pre-processed dataset on the thredds server for immidiate access. This dataset was requested using the steps outlined in 00_botpt_data_request.ipynb."
   ]
  },
  {
   "cell_type": "code",
   "execution_count": 29,
   "metadata": {
    "collapsed": true
   },
   "outputs": [],
   "source": [
    "url = 'https://opendap.oceanobservatories.org/thredds/catalog/ooi/friedrich.knuth@rutgers.edu/20171207T161702-RS03CCAL-MJ03F-05-BOTPTA301-streamed-botpt_nano_sample/catalog.html'"
   ]
  },
  {
   "cell_type": "markdown",
   "metadata": {},
   "source": [
    "Now let's use the thredds crawler to gather the dataset urls off the thredds server."
   ]
  },
  {
   "cell_type": "code",
   "execution_count": null,
   "metadata": {
    "collapsed": true
   },
   "outputs": [],
   "source": [
    "url = url.replace('.html', '.xml')\n",
    "tds_url = 'https://opendap.oceanobservatories.org/thredds/dodsC'\n",
    "c = Crawl(url, select=[\".*\\.nc$\"], debug=False)\n",
    "datasets = [os.path.join(tds_url, x.id) for x in c.datasets]"
   ]
  },
  {
   "cell_type": "markdown",
   "metadata": {},
   "source": [
    "## Data Wrangling Option 1\n",
    "Instead of downloading a local copy of the data, we can read each thredds data url directly into xarray, then use pandas to resample the 20 Hz data to the mean value per minute and finally write out the resamples pandas dataframe as a pickle file.  "
   ]
  },
  {
   "cell_type": "code",
   "execution_count": 50,
   "metadata": {
    "collapsed": false
   },
   "outputs": [
    {
     "ename": "AttributeError",
     "evalue": "'module' object has no attribute 'mkdirs'",
     "output_type": "error",
     "traceback": [
      "\u001b[0;31m---------------------------------------------------------------------------\u001b[0m",
      "\u001b[0;31mAttributeError\u001b[0m                            Traceback (most recent call last)",
      "\u001b[0;32m<ipython-input-50-0ccb436a264c>\u001b[0m in \u001b[0;36m<module>\u001b[0;34m()\u001b[0m\n\u001b[1;32m      3\u001b[0m \u001b[0;32mif\u001b[0m \u001b[0;32mnot\u001b[0m \u001b[0mos\u001b[0m\u001b[0;34m.\u001b[0m\u001b[0mpath\u001b[0m\u001b[0;34m.\u001b[0m\u001b[0misdir\u001b[0m\u001b[0;34m(\u001b[0m\u001b[0mnew_dir\u001b[0m\u001b[0;34m)\u001b[0m\u001b[0;34m:\u001b[0m\u001b[0;34m\u001b[0m\u001b[0m\n\u001b[1;32m      4\u001b[0m     \u001b[0;32mtry\u001b[0m\u001b[0;34m:\u001b[0m\u001b[0;34m\u001b[0m\u001b[0m\n\u001b[0;32m----> 5\u001b[0;31m         \u001b[0mos\u001b[0m\u001b[0;34m.\u001b[0m\u001b[0mmkdirs\u001b[0m\u001b[0;34m(\u001b[0m\u001b[0mnew_dir\u001b[0m\u001b[0;34m)\u001b[0m\u001b[0;34m\u001b[0m\u001b[0m\n\u001b[0m\u001b[1;32m      6\u001b[0m     \u001b[0;32mexcept\u001b[0m \u001b[0mOSError\u001b[0m\u001b[0;34m:\u001b[0m\u001b[0;34m\u001b[0m\u001b[0m\n\u001b[1;32m      7\u001b[0m         \u001b[0;32mif\u001b[0m \u001b[0mos\u001b[0m\u001b[0;34m.\u001b[0m\u001b[0mpath\u001b[0m\u001b[0;34m.\u001b[0m\u001b[0mexists\u001b[0m\u001b[0;34m(\u001b[0m\u001b[0mnew_dir\u001b[0m\u001b[0;34m)\u001b[0m\u001b[0;34m:\u001b[0m\u001b[0;34m\u001b[0m\u001b[0m\n",
      "\u001b[0;31mAttributeError\u001b[0m: 'module' object has no attribute 'mkdirs'"
     ]
    }
   ],
   "source": [
    "# make the output directory\n",
    "new_dir = 'data/min_data/'\n",
    "if not os.path.isdir(new_dir):\n",
    "    try:\n",
    "        os.mkdirs(new_dir)\n",
    "    except OSError:\n",
    "        if os.path.exists(new_dir):\n",
    "            pass\n",
    "        else:\n",
    "            raise"
   ]
  },
  {
   "cell_type": "code",
   "execution_count": 30,
   "metadata": {
    "collapsed": true
   },
   "outputs": [],
   "source": [
    "# read in the data directly off THREDDS and write out as subsampled pickled pandas dataframe\n",
    "num = 0\n",
    "for i in datasets:\n",
    "    ds = xr.open_dataset(i)\n",
    "    ds = ds.swap_dims({'obs': 'time'})\n",
    "\n",
    "    pressure_min = pd.DataFrame()\n",
    "    pressure_min['bottom_pressure'] = ds['bottom_pressure'].to_pandas().resample('T').mean()\n",
    "    del pressure_min.index.name\n",
    "\n",
    "    pressure_min = pressure_min.dropna()\n",
    "\n",
    "    out = 'data/min_data/' + i.split('/')[-1][:-3] + '_resampled' + '.pd'\n",
    "    num = num +1\n",
    "\n",
    "    with open(out, 'wb') as fh:\n",
    "        pk.dump(pressure_min,fh)\n",
    "\n",
    "    gc.collect()"
   ]
  },
  {
   "cell_type": "markdown",
   "metadata": {},
   "source": [
    "Next we will load in the individual pickle files and create a single concatenated dataset at 1 sample per minute."
   ]
  },
  {
   "cell_type": "code",
   "execution_count": 37,
   "metadata": {
    "collapsed": false
   },
   "outputs": [],
   "source": [
    "pressure_min = pd.DataFrame()\n",
    "for path, subdirs, files in os.walk('data/min_data/'):\n",
    "    for name in files:\n",
    "        file_name = os.path.join(path, name) \n",
    "        with open(file_name, 'rb') as f:\n",
    "            pd_df = pk.load(f)\n",
    "            pressure_min = pressure_min.append(pd_df)\n",
    "\n",
    "with open('data/pressure_min.pd', 'wb') as f:\n",
    "    pk.dump(pressure_min,f)"
   ]
  },
  {
   "cell_type": "code",
   "execution_count": 38,
   "metadata": {
    "collapsed": false
   },
   "outputs": [
    {
     "data": {
      "text/plain": [
       "<function matplotlib.pyplot.show>"
      ]
     },
     "execution_count": 38,
     "metadata": {},
     "output_type": "execute_result"
    },
    {
     "data": {
      "image/png": "[encoded data removed]",
      "text/plain": [
       "<matplotlib.figure.Figure at 0x136864b50>"
      ]
     },
     "metadata": {},
     "output_type": "display_data"
    }
   ],
   "source": [
    "pressure_min.plot()\n",
    "plt.show"
   ]
  },
  {
   "cell_type": "markdown",
   "metadata": {},
   "source": [
    "## Data Wrangling Option 2\n",
    "It should be possible to use xr.open_mfdataset() and dask to load all the data in at once, prior to subsampling by the mean value of every minute, however, I have not been able to get this to work in a timely manner. I does work on datasets that are only a few GB, but this dataset is ~ 60 GB of data, which makes it difficult to load, unless there are ways to optimize the use of Dask."
   ]
  },
  {
   "cell_type": "code",
   "execution_count": null,
   "metadata": {
    "collapsed": true
   },
   "outputs": [],
   "source": [
    "ds = xr.open_mfdataset(datasets)"
   ]
  },
  {
   "cell_type": "markdown",
   "metadata": {},
   "source": [
    "## Dowloading the data to your local machine before processing\n",
    "As an alternative to reading the data directly off thredds you can use wget to download the data locally. Note that the dataset url points to an Apache file server instance, instead of the THREDDS instance of the data. Both urls are provided when initiatially requesting the data in botpt_data_request.ipynb."
   ]
  },
  {
   "cell_type": "code",
   "execution_count": null,
   "metadata": {
    "collapsed": true
   },
   "outputs": [],
   "source": [
    "download_data = 'wget -r -l1 -nd -nc -np -e robots=off -A.nc --no-check-certificate https://opendap.oceanobservatories.org/async_results/friedrich.knuth@rutgers.edu/20180116T155221-RS03ASHS-MJ03B-09-BOTPTA304-streamed-botpt_nano_sample/'\n",
    "subprocess.call(download_data, shell=True) "
   ]
  }
 ],
 "metadata": {
  "kernelspec": {
   "display_name": "botpt",
   "language": "python",
   "name": "botpt"
  },
  "language_info": {
   "codemirror_mode": {
    "name": "ipython",
    "version": 2
   },
   "file_extension": ".py",
   "mimetype": "text/x-python",
   "name": "python",
   "nbconvert_exporter": "python",
   "pygments_lexer": "ipython2",
   "version": "2.7.14"
  }
 },
 "nbformat": 4,
 "nbformat_minor": 2
}
