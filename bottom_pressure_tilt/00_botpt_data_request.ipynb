{
 "cells": [
  {
   "cell_type": "code",
   "execution_count": 1,
   "metadata": {
    "collapsed": true
   },
   "outputs": [],
   "source": [
    "import requests\n",
    "import time\n",
    "from thredds_crawler.crawl import Crawl"
   ]
  },
  {
   "cell_type": "markdown",
   "metadata": {},
   "source": [
    "In this example we are downloading all data from RS03CCAL-MJ03F-05-BOTPTA301. The ingredients being used to build the data_request_url can be found here. http://ooi.visualocean.net/instruments/view/RS03CCAL-MJ03F-05-BOTPTA301\n",
    "\n",
    "reference designato = RS03CCAL-MJ03F-05-BOTPTA301  \n",
    "delivery method = streamed  \n",
    "stream = botpt_nano_sample  \n",
    "beginDT = 2012-01-01T01:01:01.000Z (setting the begin time to 2012 and no end time guarantees getting the full dataset)\n",
    "\n",
    "BOTPT instruments sample at 20 Hz, making this a very large data set when requesting multiple years of data. Since the system processes the raw data through dataset drivers and algorithms on demand, much like a cloud computing system providing software as a service, the request can take a while to fulfill, especially if there is a high load on the system due to other users requesting data. For this reason we have staged the pre-processed dataset on a THREDDS server. See 01_botpt_data_wrangling.ipynb.\n",
    "\n",
    "The mechanics of requesting data and checking for completion are outlined below for reference. It is not necessary to proceed with this notebook beyond this point. You can set a smaller time range to be requested (beginDT = yesterday, for example) to test the request response flow, if you like."
   ]
  },
  {
   "cell_type": "code",
   "execution_count": 2,
   "metadata": {
    "collapsed": true
   },
   "outputs": [],
   "source": [
    "# enter your username and token obtained at https://ooinet.oceanobservatories.org/ \n",
    "# under your user profile (top right corner), which becomes available after logging in.\n",
    "USERNAME =''\n",
    "TOKEN= ''"
   ]
  },
  {
   "cell_type": "code",
   "execution_count": 8,
   "metadata": {
    "collapsed": true
   },
   "outputs": [],
   "source": [
    "DATA_API_BASE_URL = 'https://ooinet.oceanobservatories.org/api/m2m/12576/sensor/inv/'\n",
    "\n",
    "data_request_url = DATA_API_BASE_URL+\\\n",
    "                    'RS03CCAL/'+\\\n",
    "                    'MJ03F/'+\\\n",
    "                    '05-BOTPTA301/'+\\\n",
    "                    'streamed/'+\\\n",
    "                    'botpt_nano_sample'+'?'+\\\n",
    "                    'beginDT=2012-01-01T01:01:01.000Z'"
   ]
  },
  {
   "cell_type": "code",
   "execution_count": 9,
   "metadata": {
    "collapsed": false
   },
   "outputs": [],
   "source": [
    "r = requests.get(data_request_url, auth=(USERNAME, TOKEN))\n",
    "data = r.json()"
   ]
  },
  {
   "cell_type": "code",
   "execution_count": 14,
   "metadata": {
    "collapsed": false
   },
   "outputs": [
    {
     "name": "stdout",
     "output_type": "stream",
     "text": [
      "https://opendap.oceanobservatories.org/thredds/catalog/ooi/friedrich.knuth@rutgers.edu/20180116T163125-RS03CCAL-MJ03F-05-BOTPTA301-streamed-botpt_nano_sample/catalog.html\n"
     ]
    }
   ],
   "source": [
    "# the first url in the response is the THREDDS location to which the data is being delivered.\n",
    "print(data['allURLs'][0])"
   ]
  },
  {
   "cell_type": "code",
   "execution_count": 15,
   "metadata": {
    "collapsed": false
   },
   "outputs": [
    {
     "name": "stdout",
     "output_type": "stream",
     "text": [
      "https://opendap.oceanobservatories.org/async_results/friedrich.knuth@rutgers.edu/20180116T163125-RS03CCAL-MJ03F-05-BOTPTA301-streamed-botpt_nano_sample\n"
     ]
    }
   ],
   "source": [
    "# the first url in the response is the Apache location to which the data is being delivered, \n",
    "# which is useful if you want to use wget to download the data to your local directory, \n",
    "# instead of reading it directly off THREDDS.\n",
    "print(data['allURLs'][1])"
   ]
  },
  {
   "cell_type": "code",
   "execution_count": null,
   "metadata": {
    "collapsed": false
   },
   "outputs": [],
   "source": [
    "# once the request completes, a confirmation email will be sent to the email associated with your account.\n",
    "# alternatively, you can use the THREDDS module to programatically monitor the THREDDS directory for the\n",
    "# status.txt file to be written to the THREDDS directory. this confirms that the request has completed.\n",
    "\n",
    "check_complete = data['allURLs'][1] + '/status.txt'\n",
    "for i in range(100000): \n",
    "    r = requests.get(check_complete)\n",
    "    if r.status_code == requests.codes.ok:\n",
    "        print('request completed')\n",
    "        break\n",
    "    else:\n",
    "        time.sleep(.5) "
   ]
  }
 ],
 "metadata": {
  "kernelspec": {
   "display_name": "botpt",
   "language": "python",
   "name": "botpt"
  },
  "language_info": {
   "codemirror_mode": {
    "name": "ipython",
    "version": 2
   },
   "file_extension": ".py",
   "mimetype": "text/x-python",
   "name": "python",
   "nbconvert_exporter": "python",
   "pygments_lexer": "ipython2",
   "version": "2.7.14"
  }
 },
 "nbformat": 4,
 "nbformat_minor": 2
}
