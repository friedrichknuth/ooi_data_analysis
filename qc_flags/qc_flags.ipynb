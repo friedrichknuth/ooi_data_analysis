{
 "cells": [
  {
   "cell_type": "code",
   "execution_count": 13,
   "metadata": {
    "collapsed": true
   },
   "outputs": [],
   "source": [
    "import netCDF4 as nc\n",
    "data = nc.Dataset('/Users/knuth/Desktop/deployment0003_RS01SBPS-SF01A-2A-CTDPFA102-streamed-ctdpf_sbe43_sample_20161110T000000.935191-20161110T102128.580840.nc')"
   ]
  },
  {
   "cell_type": "markdown",
   "metadata": {},
   "source": [
    "Load dataset and grab the qc results variable for temperature."
   ]
  },
  {
   "cell_type": "code",
   "execution_count": 14,
   "metadata": {
    "collapsed": true
   },
   "outputs": [],
   "source": [
    "temp_qc = data.variables['seawater_temperature_qc_results']"
   ]
  },
  {
   "cell_type": "markdown",
   "metadata": {},
   "source": [
    "Convert the integer value to binary."
   ]
  },
  {
   "cell_type": "code",
   "execution_count": 15,
   "metadata": {
    "collapsed": true
   },
   "outputs": [],
   "source": [
    "temp_qc_binary = [format(x, '#010b')[2:] for x in temp_qc]"
   ]
  },
  {
   "cell_type": "markdown",
   "metadata": {},
   "source": [
    "Create dictionary to store the results of each test for the temp_qc variable."
   ]
  },
  {
   "cell_type": "code",
   "execution_count": 16,
   "metadata": {
    "collapsed": true
   },
   "outputs": [],
   "source": [
    "all_temp_qc_results = {}"
   ]
  },
  {
   "cell_type": "code",
   "execution_count": 17,
   "metadata": {
    "collapsed": true
   },
   "outputs": [],
   "source": [
    "all_temp_qc_results['propagateflags'] = []\n",
    "all_temp_qc_results['gradienttest'] = []\n",
    "all_temp_qc_results['stuckvaluetest'] = []\n",
    "all_temp_qc_results['polytrendtest'] = []\n",
    "all_temp_qc_results['spiketest'] = []\n",
    "all_temp_qc_results['localrangetest'] = []\n",
    "all_temp_qc_results['globalrangetest'] = []"
   ]
  },
  {
   "cell_type": "markdown",
   "metadata": {},
   "source": [
    "? .... Not exactly sure what is being done here. test_result hasn't been defined prior to this function, so where does test_result[1], for example, come from?"
   ]
  },
  {
   "cell_type": "code",
   "execution_count": 18,
   "metadata": {
    "collapsed": true
   },
   "outputs": [],
   "source": [
    "for test_result in temp_qc_binary:\n",
    "    all_temp_qc_results['propagateflags'].append(test_result[1])\n",
    "    all_temp_qc_results['gradienttest'].append(test_result[2])\n",
    "    all_temp_qc_results['stuckvaluetest'].append(test_result[3])\n",
    "    all_temp_qc_results['polytrendtest'].append(test_result[4])\n",
    "    all_temp_qc_results['spiketest'].append(test_result[5])\n",
    "    all_temp_qc_results['localrangetest'].append(test_result[6])\n",
    "    all_temp_qc_results['globalrangetest'].append(test_result[7])"
   ]
  },
  {
   "cell_type": "markdown",
   "metadata": {},
   "source": [
    "I see that we have created a dictionary with 7 keys (one for each test), each containing 37888 values. This makes sense, but again, I am not sure where test_result[1] through test_result[7] for each dictionary key aka qc test came from...?"
   ]
  }
 ],
 "metadata": {
  "kernelspec": {
   "display_name": "Python 2",
   "language": "python",
   "name": "python2"
  },
  "language_info": {
   "codemirror_mode": {
    "name": "ipython",
    "version": 2
   },
   "file_extension": ".py",
   "mimetype": "text/x-python",
   "name": "python",
   "nbconvert_exporter": "python",
   "pygments_lexer": "ipython2",
   "version": "2.7.10"
  }
 },
 "nbformat": 4,
 "nbformat_minor": 1
}
