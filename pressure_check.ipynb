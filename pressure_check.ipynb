{
 "cells": [
  {
   "cell_type": "code",
   "execution_count": 67,
   "metadata": {
    "collapsed": true
   },
   "outputs": [],
   "source": [
    "%matplotlib inline\n",
    "import matplotlib.pyplot as plt\n",
    "import requests\n",
    "import json\n",
    "import datetime"
   ]
  },
  {
   "cell_type": "markdown",
   "metadata": {},
   "source": [
    "### gist   \n",
    "enter refdes, stream and paramater   \n",
    "m2m request for deployment info   \n",
    "m2m request for data   \n",
    "calculate offset using +/- 24 hours of data and plot for comparison   \n",
    "apply offset and plot for result comparison   "
   ]
  },
  {
   "cell_type": "code",
   "execution_count": 68,
   "metadata": {
    "collapsed": true
   },
   "outputs": [],
   "source": [
    "username ='OOIAPI-30AZZ33CYL06XZ'\n",
    "token = '77CEUHU3VZ9'\n",
    "refdes = 'CE04OSPS-PC01B-4A-CTDPFA109'\n",
    "delivery_method = 'streamed'\n",
    "stream = 'ctdpf_optode_sample'\n",
    "parameter = 'seawater_pressure'\n",
    "data_url = 'https://ooinet.oceanobservatories.org/api/m2m/12576/sensor/inv/'\n",
    "asset_url = 'https://ooinet.oceanobservatories.org/api/m2m/12587/events/deployment/inv/'"
   ]
  },
  {
   "cell_type": "code",
   "execution_count": 69,
   "metadata": {
    "collapsed": true
   },
   "outputs": [],
   "source": [
    "sub_site = refdes[:8]\n",
    "platform = refdes[9:14]\n",
    "instrument = refdes[15:]\n",
    "asset_url_inputs = '/'.join((sub_site, platform, instrument))"
   ]
  },
  {
   "cell_type": "code",
   "execution_count": 70,
   "metadata": {
    "collapsed": true
   },
   "outputs": [],
   "source": [
    "r = requests.get(asset_url+asset_url_inputs+'/-1',auth=(username, token))\n",
    "asset_info = r.json()\n",
    "# print json.dumps(r.json(), indent=2)\n"
   ]
  },
  {
   "cell_type": "code",
   "execution_count": 71,
   "metadata": {
    "collapsed": false
   },
   "outputs": [
    {
     "name": "stdout",
     "output_type": "stream",
     "text": [
      "CE04OSPS-PC01B-4A-CTDPFA109 has the following deployments:\n",
      "\n",
      "deployment 1 uid ATAPL-66662-00009 start_time 2014-08-30 09:16:00 end_time 2015-08-02 00:00:00\n",
      "deployment 2 uid ATOSU-66662-00014 start_time 2015-08-03 05:41:00 end_time 2016-07-18 00:00:00\n",
      "deployment 3 uid ATOSU-66662-00006 start_time 2016-07-19 08:00:00 end_time 2017-07-28 00:00:00\n",
      "deployment 4 uid ATOSU-66662-00014 start_time 2017-07-29 05:00:00 end_time present\n"
     ]
    }
   ],
   "source": [
    "print refdes, 'has the following deployments:\\n'\n",
    "\n",
    "for i in range(len(asset_info)):\n",
    "    start = asset_info[i]['eventStartTime']\n",
    "    end = asset_info[i]['eventStopTime']\n",
    "    \n",
    "    try:\n",
    "        print \\\n",
    "        'deployment', asset_info[i]['deploymentNumber'], \\\n",
    "        'uid', asset_info[i]['sensor']['uid'], \\\n",
    "        'start_time', datetime.datetime.utcfromtimestamp(start/1000.0).strftime('%Y-%m-%d %H:%M:%S'), \\\n",
    "        'end_time', datetime.datetime.utcfromtimestamp(end/1000.0).strftime('%Y-%m-%d %H:%M:%S')\n",
    "    except:\n",
    "        print \"present\"\n",
    "    "
   ]
  },
  {
   "cell_type": "code",
   "execution_count": 72,
   "metadata": {
    "collapsed": false
   },
   "outputs": [
    {
     "data": {
      "text/plain": [
       "'\\ntake the end time - 48 hour average\\ntake the begin time from next + 48 hour average\\nsubtract endtime average from begin time average\\nlist as the offset\\nplot accross both\\n'"
      ]
     },
     "execution_count": 72,
     "metadata": {},
     "output_type": "execute_result"
    }
   ],
   "source": [
    "'''\n",
    "take the end time - 48 hour average\n",
    "take the begin time from next + 48 hour average\n",
    "subtract endtime average from begin time average\n",
    "list as the offset\n",
    "plot accross both\n",
    "'''"
   ]
  },
  {
   "cell_type": "code",
   "execution_count": 73,
   "metadata": {
    "collapsed": true
   },
   "outputs": [],
   "source": [
    "start_times = []\n",
    "start_times_plus = []\n",
    "end_times = []\n",
    "end_times_minus = []\n",
    "\n",
    "\n",
    "for i in range(len(asset_info)):\n",
    "    start = asset_info[i]['eventStartTime']\n",
    "    end = asset_info[i]['eventStopTime']\n",
    "    \n",
    "    try:\n",
    "        start_times.append(datetime.datetime.utcfromtimestamp(start/1000.0).strftime('%Y-%m-%dT%H:%M:%S.000Z'))\n",
    "        end_times.append(datetime.datetime.utcfromtimestamp(end/1000.0).strftime('%Y-%m-%dT%H:%M:%S.000Z'))\n",
    "    except:\n",
    "        pass\n",
    "    \n",
    "    try:\n",
    "        start_times_plus.append((datetime.datetime.utcfromtimestamp(start/1000.0) \\\n",
    "                      + datetime.timedelta(seconds=172800)).strftime('%Y-%m-%dT%H:%M:%S.000Z'))\n",
    "        end_times_minus.append((datetime.datetime.utcfromtimestamp(end/1000.0) \\\n",
    "                    - datetime.timedelta(seconds=172800)).strftime('%Y-%m-%dT%H:%M:%S.000Z'))\n",
    "    except:\n",
    "        pass        \n",
    "        \n",
    "    \n",
    "#     try:\n",
    "#         starts.append(datetime.datetime.utcfromtimestamp(start/1000.0).strftime('%Y-%m-%dT%H:%M:%S.000Z'))\n",
    "#         ends.append(datetime.datetime.utcfromtimestamp(end/1000.0).strftime('%Y-%m-%dT%H:%M:%S.000Z'))\n",
    "    \n"
   ]
  },
  {
   "cell_type": "code",
   "execution_count": 74,
   "metadata": {
    "collapsed": false
   },
   "outputs": [
    {
     "data": {
      "text/plain": [
       "'\\ntake first end time and second start time\\nfirst end time becomes the begin time of the request\\nsecond start time becomes the end time of the request\\n'"
      ]
     },
     "execution_count": 74,
     "metadata": {},
     "output_type": "execute_result"
    }
   ],
   "source": [
    "'''\n",
    "take first end time and second start time\n",
    "first end time becomes the begin time of the request\n",
    "second start time becomes the end time of the request\n",
    "\n",
    "request before and after chunk\n",
    "'''"
   ]
  },
  {
   "cell_type": "code",
   "execution_count": 75,
   "metadata": {
    "collapsed": true
   },
   "outputs": [],
   "source": [
    "for i in range(len(end_times)):\n",
    "    request_begin_time = end_times_minus[i]\n",
    "    request_end_time = end_times[i]\n"
   ]
  },
  {
   "cell_type": "code",
   "execution_count": 76,
   "metadata": {
    "collapsed": true
   },
   "outputs": [],
   "source": [
    "request_begin_time = end_times_minus[1]\n",
    "request_end_time = start_times_plus[2]"
   ]
  },
  {
   "cell_type": "code",
   "execution_count": 77,
   "metadata": {
    "collapsed": false
   },
   "outputs": [
    {
     "data": {
      "text/plain": [
       "'2016-07-16T00:00:00.000Z'"
      ]
     },
     "execution_count": 77,
     "metadata": {},
     "output_type": "execute_result"
    }
   ],
   "source": [
    "end_times_minus[1]"
   ]
  },
  {
   "cell_type": "code",
   "execution_count": 78,
   "metadata": {
    "collapsed": false
   },
   "outputs": [
    {
     "data": {
      "text/plain": [
       "'2016-07-21T08:00:00.000Z'"
      ]
     },
     "execution_count": 78,
     "metadata": {},
     "output_type": "execute_result"
    }
   ],
   "source": [
    "start_times_plus[2]"
   ]
  },
  {
   "cell_type": "code",
   "execution_count": 79,
   "metadata": {
    "collapsed": false
   },
   "outputs": [
    {
     "name": "stdout",
     "output_type": "stream",
     "text": [
      "['2014-08-30T09:16:00.000Z', '2015-08-03T05:41:00.000Z', '2016-07-19T08:00:00.000Z', '2017-07-29T05:00:00.000Z']\n",
      "['2015-08-02T00:00:00.000Z', '2016-07-18T00:00:00.000Z', '2017-07-28T00:00:00.000Z']\n"
     ]
    }
   ],
   "source": [
    "print start_times\n",
    "print end_times"
   ]
  },
  {
   "cell_type": "code",
   "execution_count": 64,
   "metadata": {
    "collapsed": false
   },
   "outputs": [
    {
     "name": "stdout",
     "output_type": "stream",
     "text": [
      "['2014-09-01T09:16:00.000Z', '2015-08-05T05:41:00.000Z', '2016-07-21T08:00:00.000Z', '2017-07-31T05:00:00.000Z']\n",
      "['2015-07-31T00:00:00.000Z', '2016-07-16T00:00:00.000Z', '2017-07-26T00:00:00.000Z']\n"
     ]
    }
   ],
   "source": [
    "print start_times_plus\n",
    "print end_times_minus"
   ]
  },
  {
   "cell_type": "code",
   "execution_count": 65,
   "metadata": {
    "collapsed": true
   },
   "outputs": [],
   "source": [
    "data_url_inputs = '/'.join((sub_site, platform, instrument, delivery_method, stream))\n",
    "r = requests.get(data_url+\\\n",
    "                 data_url_inputs+\\\n",
    "                 '?beginDT='+\\\n",
    "                 request_begin_time+\\\n",
    "                 '&endDT='+\\\n",
    "                 request_end_time+\\\n",
    "                 '&limit=1000',\\\n",
    "                 auth=(username, token))"
   ]
  },
  {
   "cell_type": "code",
   "execution_count": 66,
   "metadata": {
    "collapsed": false
   },
   "outputs": [
    {
     "data": {
      "image/png": "[encoded data removed]",
      "text/plain": [
       "<matplotlib.figure.Figure at 0x116bed650>"
      ]
     },
     "metadata": {},
     "output_type": "display_data"
    }
   ],
   "source": [
    "data = r.json()\n",
    "\n",
    "def extract_keys(data, keys):\n",
    "    rdict = {key: [] for key in keys}\n",
    "    for record in data:\n",
    "        for key in keys:\n",
    "            rdict[key].append(record[key])\n",
    "    return rdict\n",
    "\n",
    "data = extract_keys(data, ['time', parameter])\n",
    "\n",
    "ntp_epoch = datetime.datetime(1900, 1, 1)\n",
    "unix_epoch = datetime.datetime(1970, 1, 1)\n",
    "ntp_delta = (unix_epoch - ntp_epoch).total_seconds()\n",
    "\n",
    "def ntp_seconds_to_datetime(ntp_seconds):\n",
    "    return datetime.datetime.utcfromtimestamp(ntp_seconds - ntp_delta).replace(microsecond=0)\n",
    "\n",
    "x = []\n",
    "for i in data['time']:\n",
    "    x.append(ntp_seconds_to_datetime(i))\n",
    "\n",
    "y = data[parameter]\n",
    "\n",
    "fig, ax = plt.subplots()\n",
    "ax.plot(x,y, '.')\n",
    "fig.autofmt_xdate()"
   ]
  }
 ],
 "metadata": {
  "kernelspec": {
   "display_name": "checkdata",
   "language": "python",
   "name": "checkdata"
  },
  "language_info": {
   "codemirror_mode": {
    "name": "ipython",
    "version": 2
   },
   "file_extension": ".py",
   "mimetype": "text/x-python",
   "name": "python",
   "nbconvert_exporter": "python",
   "pygments_lexer": "ipython2",
   "version": "2.7.13"
  }
 },
 "nbformat": 4,
 "nbformat_minor": 2
}
