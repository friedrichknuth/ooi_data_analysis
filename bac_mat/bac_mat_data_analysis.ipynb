{
 "cells": [
  {
   "cell_type": "code",
   "execution_count": null,
   "metadata": {
    "collapsed": true
   },
   "outputs": [],
   "source": [
    "import pandas as pd\n",
    "from matplotlib import pyplot"
   ]
  },
  {
   "cell_type": "code",
   "execution_count": null,
   "metadata": {
    "collapsed": true
   },
   "outputs": [],
   "source": [
    "csv_file = '/Users/knuth/Documents/ooi/projects/bac_mat/bac_mat_data.csv'"
   ]
  },
  {
   "cell_type": "code",
   "execution_count": null,
   "metadata": {
    "collapsed": true
   },
   "outputs": [],
   "source": [
    "def slope(x1, y1, x2, y2):\n",
    "    return (y2 - y1) / (x2 - x1)"
   ]
  },
  {
   "cell_type": "code",
   "execution_count": null,
   "metadata": {
    "collapsed": true
   },
   "outputs": [],
   "source": [
    "data = pd.read_csv(csv_file, parse_dates=True, header=None)\n",
    "data[0]= pd.to_datetime(data[0])\n",
    "# data = data.set_index(0)"
   ]
  },
  {
   "cell_type": "code",
   "execution_count": null,
   "metadata": {
    "collapsed": true
   },
   "outputs": [],
   "source": [
    "daily = data.resample('D')\n",
    "interpolated = daily.interpolate(method='linear')\n",
    "interpolated = interpolated.dropna()\n",
    "print(interpolated.head(32))"
   ]
  },
  {
   "cell_type": "code",
   "execution_count": null,
   "metadata": {
    "collapsed": true
   },
   "outputs": [],
   "source": [
    "interpolated.plot(linestyle='None', marker='.')\n",
    "pyplot.show()"
   ]
  },
  {
   "cell_type": "code",
   "execution_count": null,
   "metadata": {
    "collapsed": true
   },
   "outputs": [],
   "source": [
    "mylist = []\n",
    "mytimes=[]\n",
    "interpolated = interpolated.reset_index()\n",
    "row_iterator = interpolated.iterrows()\n",
    "_, last = row_iterator.next()\n",
    "for index, row in row_iterator:\n",
    "    x1 = pd.to_datetime(last[0]).toordinal()\n",
    "    x2 = pd.to_datetime(row[0]).toordinal()\n",
    "    y1 = last[1]\n",
    "    y2 = row[1]\n",
    "    z = slope(x1, y1, x2, y2)\n",
    "    print x1, y1, x2, y2, z\n",
    "    mylist.append(z)\n",
    "    mytimes.append(x2)\n",
    "    last = row"
   ]
  },
  {
   "cell_type": "code",
   "execution_count": null,
   "metadata": {
    "collapsed": true
   },
   "outputs": [],
   "source": [
    "mylist = []\n",
    "mytimes=[]\n",
    "row_iterator = data.iterrows()\n",
    "_, last = row_iterator.next()\n",
    "for index, row in row_iterator:\n",
    "    x1 = pd.to_datetime(last[0]).toordinal()\n",
    "    x2 = pd.to_datetime(row[0]).toordinal()\n",
    "    y1 = last[1]\n",
    "    y2 = row[1]\n",
    "    print x1, y1, x2, y2, z\n",
    "    z = slope(x1, y1, x2, y2)\n",
    "    mylist.append(z)\n",
    "    mytimes.append(x2)\n",
    "    last = row"
   ]
  },
  {
   "cell_type": "code",
   "execution_count": null,
   "metadata": {
    "collapsed": true
   },
   "outputs": [],
   "source": [
    "fig, ax = plt.subplots();\n",
    "# ax.set_ylim(0,20)\n",
    "ax.yaxis.set_major_locator(MaxNLocator(integer=True))\n",
    "# ax.set_xlim(x_timestamps[0],x_timestamps[-1])\n",
    "ax.set_xlim(datetime.datetime(2015, 12, 1, 0, 0),datetime.datetime(2016, 8, 1, 0, 0))\n",
    "ax.grid(b=True, which='major', color='whitesmoke', linestyle='-')\n",
    "plt.title('Bacterial Mat Seafloor Coverage')\n",
    "plt.ylabel('%')\n",
    "plt.xticks(rotation=70)\n",
    "plt.plot(mytimes, mylist, linestyle='None', marker='.', markersize=1, color= 'midnightblue')\n",
    "plt.tight_layout()\n",
    "plt.savefig('output/' +'derivative.png', dpi = 300)"
   ]
  }
 ],
 "metadata": {
  "kernelspec": {
   "display_name": "bac_mat",
   "language": "python",
   "name": "bac_mat"
  },
  "language_info": {
   "codemirror_mode": {
    "name": "ipython",
    "version": 2
   },
   "file_extension": ".py",
   "mimetype": "text/x-python",
   "name": "python",
   "nbconvert_exporter": "python",
   "pygments_lexer": "ipython2",
   "version": "2.7.14"
  }
 },
 "nbformat": 4,
 "nbformat_minor": 2
}
