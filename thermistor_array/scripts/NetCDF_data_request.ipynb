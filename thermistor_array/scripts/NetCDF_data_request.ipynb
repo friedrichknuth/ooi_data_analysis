{
 "cells": [
  {
   "cell_type": "markdown",
   "metadata": {},
   "source": [
    "# Accessing 3D Thermistor Array as NetCDF via OOI RESTful API\n",
    "Here are some basic instructions to get started using the OOI M2M Web Services to request TMPSF (3D Thermistor Array) data\n",
    "\n",
    "## Getting Started\n",
    "* Create a user account on ooinet.oceanobservatories.org, or use the CILogon button with an academic or Google account\n",
    "* Log in\n",
    "* Navigate to the drop down menu screen in the top-right corner menu\n",
    "* Click on the \"User Profile\" element of the drop down.\n",
    "* Copy and save the following data from the user profile: API Username and API Token. The API Username is similar to “OOIAPI-QTULEV9STCAS55”. The API Token is similar to “YXP2Q2W4SOP”."
   ]
  },
  {
   "cell_type": "code",
   "execution_count": 1,
   "metadata": {
    "collapsed": false
   },
   "outputs": [],
   "source": [
    "import requests\n",
    "import time\n",
    "from thredds_crawler.crawl import Crawl\n",
    "import os\n",
    "import xarray as xr\n",
    "import matplotlib.pyplot as plt"
   ]
  },
  {
   "cell_type": "code",
   "execution_count": 2,
   "metadata": {
    "collapsed": true
   },
   "outputs": [],
   "source": [
    "USERNAME ='YOUR-API-USER'\n",
    "TOKEN= 'YOUR-API-TOKEN'\n",
    "DATA_API_BASE_URL = 'https://ooinet.oceanobservatories.org/api/m2m/12576/sensor/inv/'"
   ]
  },
  {
   "cell_type": "markdown",
   "metadata": {},
   "source": [
    "In this example we will request information and data from the Cabled Axial Seamount ASHES Vent Field (RS03ASHS) - Medium-Power JBox (MJ03B) - Diffuse Vent Fluid 3-D Temperature Array (07-TMPSFA301) sensor. \n",
    "\n",
    "Platform = RS03ASHS  \n",
    "Node = MJ03B  \n",
    "Instrument = 07-TMPSFA301  \n",
    "Delivery Method = streamed  \n",
    "Stream Name = tmpsf_sample  \n",
    "\n",
    "Platform, Node, Instrument, Delivery Method and Stream Name can be found in the [OOI data catalog](https://ooinet.oceanobservatories.org/data_access). These are all elements necessary to build a data request url, which we will do in the next step. For this example, we will request all data between 2017-09-04T17:54:58.050Z and 2017-11-04T23:54:58.050Z."
   ]
  },
  {
   "cell_type": "code",
   "execution_count": 3,
   "metadata": {
    "collapsed": false
   },
   "outputs": [],
   "source": [
    "data_request_url = DATA_API_BASE_URL+\\\n",
    "                    'RS03ASHS/'+\\\n",
    "                    'MJ03B/'+\\\n",
    "                    '07-TMPSFA301/'+\\\n",
    "                    'streamed/'+\\\n",
    "                    'tmpsf_sample?'+\\\n",
    "                    'beginDT=2017-09-04T17:54:58.050Z&'+\\\n",
    "                    'endDT=2017-09-11T23:54:58.050Z'"
   ]
  },
  {
   "cell_type": "markdown",
   "metadata": {},
   "source": [
    "Next, let's send the data request. This will prompt the system to pull together raw data, asset information, and calibration values to generate the data products and package them up in a NetCDF file. This file will be returned on a THREDDS server, for which a URL will be provided in the response."
   ]
  },
  {
   "cell_type": "code",
   "execution_count": 4,
   "metadata": {
    "collapsed": false
   },
   "outputs": [],
   "source": [
    "r = requests.get(data_request_url, auth=(USERNAME, TOKEN))\n",
    "data = r.json()"
   ]
  },
  {
   "cell_type": "markdown",
   "metadata": {},
   "source": [
    "The first URL in the 'allURLs' key is the THREDDS server, which allows for programmatic data access without downloading the entire file. We will get to that."
   ]
  },
  {
   "cell_type": "code",
   "execution_count": 5,
   "metadata": {
    "collapsed": false
   },
   "outputs": [
    {
     "name": "stdout",
     "output_type": "stream",
     "text": [
      "https://opendap.oceanobservatories.org/thredds/catalog/ooi/friedrich.knuth@rutgers.edu/20171113T222751-RS03ASHS-MJ03B-07-TMPSFA301-streamed-tmpsf_sample/catalog.html\n"
     ]
    }
   ],
   "source": [
    "print(data['allURLs'][0])"
   ]
  },
  {
   "cell_type": "markdown",
   "metadata": {},
   "source": [
    "The second URL in the 'allURLs' key is the direct download server. We can use this URL to check if a `status.txt` file has been written to the location. If true, then the request has completed and all data have been delivered to the THREDDS server."
   ]
  },
  {
   "cell_type": "code",
   "execution_count": 6,
   "metadata": {
    "collapsed": false
   },
   "outputs": [
    {
     "name": "stdout",
     "output_type": "stream",
     "text": [
      "https://opendap.oceanobservatories.org/async_results/friedrich.knuth@rutgers.edu/20171113T222751-RS03ASHS-MJ03B-07-TMPSFA301-streamed-tmpsf_sample\n"
     ]
    }
   ],
   "source": [
    "print(data['allURLs'][1])"
   ]
  },
  {
   "cell_type": "markdown",
   "metadata": {},
   "source": [
    "The following for loop will poll the location for the status.txt files 1000 times, once every 0.5 seconds. Therefore, it will quit after about 8.3 minutes. If you are requesting a very large and dense dataset (3 years of BOTPT data collected at 20 Hz, for example), it may take a bit longer to complete the request, so you will want to bump up the retry range or lower the sleep interval."
   ]
  },
  {
   "cell_type": "code",
   "execution_count": 7,
   "metadata": {
    "collapsed": false
   },
   "outputs": [
    {
     "name": "stdout",
     "output_type": "stream",
     "text": [
      "request completed\n",
      "CPU times: user 1.78 s, sys: 130 ms, total: 1.91 s\n",
      "Wall time: 1min\n"
     ]
    }
   ],
   "source": [
    "%%time\n",
    "\n",
    "check_complete = data['allURLs'][1] + '/status.txt'\n",
    "for i in range(1000): \n",
    "    r = requests.get(check_complete)\n",
    "    if r.status_code == requests.codes.ok:\n",
    "        print('request completed')\n",
    "        break\n",
    "    else:\n",
    "        time.sleep(.5)  "
   ]
  },
  {
   "cell_type": "markdown",
   "metadata": {},
   "source": [
    "Now let's go back to that first URL and grab the URL for the NetCDF file dataset from THREDDS."
   ]
  },
  {
   "cell_type": "code",
   "execution_count": 8,
   "metadata": {
    "collapsed": false
   },
   "outputs": [],
   "source": [
    "url = data['allURLs'][0]\n",
    "url = url.replace('.html', '.xml')\n",
    "tds_url = 'https://opendap.oceanobservatories.org/thredds/dodsC'\n",
    "c = Crawl(url, select=[\".*\\.nc$\"], debug=False)\n",
    "datasets = [os.path.join(tds_url, x.id) for x in c.datasets]\n",
    "splitter = url.split('/')[-2].split('-')\n",
    "dataset_url = datasets[0]"
   ]
  },
  {
   "cell_type": "markdown",
   "metadata": {},
   "source": [
    "Finally, we can load the dataset directly into memory using xarray and plot the data."
   ]
  },
  {
   "cell_type": "code",
   "execution_count": 9,
   "metadata": {
    "collapsed": false
   },
   "outputs": [
    {
     "data": {
      "image/png": "[encoded data removed]",
      "text/plain": [
       "<matplotlib.figure.Figure at 0x10d0f5610>"
      ]
     },
     "metadata": {},
     "output_type": "display_data"
    }
   ],
   "source": [
    "ds = xr.open_dataset(dataset_url)\n",
    "ds = ds.swap_dims({'obs': 'time'})\n",
    "ds['temperature04'].plot.line()\n",
    "plt.ylabel('Temperature in degrees Celsius')\n",
    "plt.xlabel('Time')\n",
    "plt.legend()\n",
    "plt.show()"
   ]
  },
  {
   "cell_type": "code",
   "execution_count": null,
   "metadata": {
    "collapsed": true
   },
   "outputs": [],
   "source": []
  }
 ],
 "metadata": {
  "kernelspec": {
   "display_name": "tmpsf",
   "language": "python",
   "name": "tmpsf"
  },
  "language_info": {
   "codemirror_mode": {
    "name": "ipython",
    "version": 2
   },
   "file_extension": ".py",
   "mimetype": "text/x-python",
   "name": "python",
   "nbconvert_exporter": "python",
   "pygments_lexer": "ipython2",
   "version": "2.7.13"
  }
 },
 "nbformat": 4,
 "nbformat_minor": 2
}
