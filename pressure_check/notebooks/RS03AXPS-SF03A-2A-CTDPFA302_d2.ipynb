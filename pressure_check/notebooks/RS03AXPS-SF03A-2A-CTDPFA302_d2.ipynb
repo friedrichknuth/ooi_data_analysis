{
 "cells": [
  {
   "cell_type": "code",
   "execution_count": 9,
   "metadata": {
    "collapsed": false
   },
   "outputs": [],
   "source": [
    "import warnings\n",
    "warnings.filterwarnings('ignore')\n",
    "\n",
    "import requests\n",
    "import datetime\n",
    "import time\n",
    "import os\n",
    "import xarray as xr\n",
    "import pandas as pd\n",
    "import numpy as np\n",
    "import matplotlib.pyplot as plt\n",
    "from thredds_crawler.crawl import Crawl\n",
    "import statsmodels.api as sm"
   ]
  },
  {
   "cell_type": "markdown",
   "metadata": {},
   "source": [
    "Provide username and credentials and inputs."
   ]
  },
  {
   "cell_type": "code",
   "execution_count": 10,
   "metadata": {
    "collapsed": true
   },
   "outputs": [],
   "source": [
    "USERNAME = ''\n",
    "TOKEN = ''\n",
    "REFDES = 'RS03AXPS-SF03A-2A-CTDPFA302'\n",
    "STREAM = 'ctdpf_sbe43_sample'"
   ]
  },
  {
   "cell_type": "markdown",
   "metadata": {},
   "source": [
    "Request asset information for reference."
   ]
  },
  {
   "cell_type": "code",
   "execution_count": 11,
   "metadata": {
    "collapsed": false
   },
   "outputs": [
    {
     "data": {
      "text/html": [
       "<div>\n",
       "<style scoped>\n",
       "    .dataframe tbody tr th:only-of-type {\n",
       "        vertical-align: middle;\n",
       "    }\n",
       "\n",
       "    .dataframe tbody tr th {\n",
       "        vertical-align: top;\n",
       "    }\n",
       "\n",
       "    .dataframe thead th {\n",
       "        text-align: right;\n",
       "    }\n",
       "</style>\n",
       "<table border=\"1\" class=\"dataframe\">\n",
       "  <thead>\n",
       "    <tr style=\"text-align: right;\">\n",
       "      <th></th>\n",
       "      <th>refdes</th>\n",
       "      <th>deployment</th>\n",
       "      <th>start_time</th>\n",
       "      <th>end_time</th>\n",
       "      <th>uid</th>\n",
       "    </tr>\n",
       "  </thead>\n",
       "  <tbody>\n",
       "    <tr>\n",
       "      <th>0</th>\n",
       "      <td>RS03AXPS-SF03A-2A-CTDPFA302</td>\n",
       "      <td>1</td>\n",
       "      <td>2014-09-27 18:33:00</td>\n",
       "      <td>2015-07-09 00:00:00.000000</td>\n",
       "      <td>ATAPL-66662-00003</td>\n",
       "    </tr>\n",
       "    <tr>\n",
       "      <th>1</th>\n",
       "      <td>RS03AXPS-SF03A-2A-CTDPFA302</td>\n",
       "      <td>2</td>\n",
       "      <td>2015-07-09 04:16:00</td>\n",
       "      <td>2016-07-14 00:00:00.000000</td>\n",
       "      <td>ATAPL-66662-00010</td>\n",
       "    </tr>\n",
       "    <tr>\n",
       "      <th>2</th>\n",
       "      <td>RS03AXPS-SF03A-2A-CTDPFA302</td>\n",
       "      <td>3</td>\n",
       "      <td>2016-07-14 21:18:00</td>\n",
       "      <td>2017-07-30 14:00:00.000000</td>\n",
       "      <td>ATAPL-66662-00003</td>\n",
       "    </tr>\n",
       "    <tr>\n",
       "      <th>3</th>\n",
       "      <td>RS03AXPS-SF03A-2A-CTDPFA302</td>\n",
       "      <td>4</td>\n",
       "      <td>2017-07-31 04:00:00</td>\n",
       "      <td>2017-12-19 16:49:07.039051</td>\n",
       "      <td>ATAPL-66662-00011</td>\n",
       "    </tr>\n",
       "  </tbody>\n",
       "</table>\n",
       "</div>"
      ],
      "text/plain": [
       "                        refdes  deployment          start_time  \\\n",
       "0  RS03AXPS-SF03A-2A-CTDPFA302           1 2014-09-27 18:33:00   \n",
       "1  RS03AXPS-SF03A-2A-CTDPFA302           2 2015-07-09 04:16:00   \n",
       "2  RS03AXPS-SF03A-2A-CTDPFA302           3 2016-07-14 21:18:00   \n",
       "3  RS03AXPS-SF03A-2A-CTDPFA302           4 2017-07-31 04:00:00   \n",
       "\n",
       "                    end_time                uid  \n",
       "0 2015-07-09 00:00:00.000000  ATAPL-66662-00003  \n",
       "1 2016-07-14 00:00:00.000000  ATAPL-66662-00010  \n",
       "2 2017-07-30 14:00:00.000000  ATAPL-66662-00003  \n",
       "3 2017-12-19 16:49:07.039051  ATAPL-66662-00011  "
      ]
     },
     "execution_count": 11,
     "metadata": {},
     "output_type": "execute_result"
    }
   ],
   "source": [
    "DEPLOYEMENT_URL = 'https://ooinet.oceanobservatories.org/api/m2m/12587/events/deployment/inv/'\n",
    "\n",
    "asset_request_url = DEPLOYEMENT_URL+\\\n",
    "                     REFDES[:8] + '/'+\\\n",
    "                     REFDES[9:14] + '/'+\\\n",
    "                     REFDES[15:] + '/-1'\n",
    "    \n",
    "r = requests.get(asset_request_url, auth=(USERNAME, TOKEN))\n",
    "asset_info = r.json()\n",
    "\n",
    "ref_des_list = []\n",
    "start_time_list = []\n",
    "end_time_list = []\n",
    "deployment_list = []\n",
    "uid_list = []\n",
    "\n",
    "for i in range(len(asset_info)):\n",
    "    refdes = asset_info[i]['referenceDesignator']\n",
    "    ref_des_list.append(refdes)\n",
    "\n",
    "    deployment = asset_info[i]['deploymentNumber']\n",
    "    deployment_list.append(deployment)\n",
    "\n",
    "    start = asset_info[i]['eventStartTime']\n",
    "    end = asset_info[i]['eventStopTime']\n",
    "\n",
    "    uid = asset_info[i]['sensor']['calibration'][0]['calData'][0]['assetUid']\n",
    "    uid_list.append(uid)\n",
    "\n",
    "    try:\n",
    "        start_time = datetime.datetime.utcfromtimestamp(start/1000.0)\n",
    "        start_time_list.append(start_time)\n",
    "\n",
    "        end_time = datetime.datetime.utcfromtimestamp(end/1000.0)\n",
    "        end_time_list.append(end_time)\n",
    "\n",
    "    except:\n",
    "        end_time = datetime.datetime.utcnow()\n",
    "        end_time_list.append(end_time)\n",
    "\n",
    "data_dict = {\n",
    "    'refdes':ref_des_list,\n",
    "    'deployment':deployment_list,\n",
    "    'start_time':start_time_list,\n",
    "    'end_time':end_time_list,\n",
    "    'uid':uid_list}\n",
    "deployment_data = pd.DataFrame(data_dict, columns = ['refdes', 'deployment','start_time', 'end_time', 'uid'])\n",
    "\n",
    "deployment_data"
   ]
  },
  {
   "cell_type": "markdown",
   "metadata": {},
   "source": [
    "This instrument is affected during deployment 2.  \n",
    "Set data request BEGIN to end_time - 1 month of the preceeding \"good\" deployment and END to start_time + 1 month from the affected deployment."
   ]
  },
  {
   "cell_type": "code",
   "execution_count": 12,
   "metadata": {
    "collapsed": true
   },
   "outputs": [],
   "source": [
    "BEGIN = '2015-06-09'\n",
    "END = '2015-08-09'"
   ]
  },
  {
   "cell_type": "markdown",
   "metadata": {},
   "source": [
    "Request data."
   ]
  },
  {
   "cell_type": "code",
   "execution_count": 13,
   "metadata": {
    "collapsed": false
   },
   "outputs": [
    {
     "name": "stdout",
     "output_type": "stream",
     "text": [
      "request completed\n",
      "https://opendap.oceanobservatories.org/thredds/dodsC/ooi/friedrich.knuth@rutgers.edu/20171219T164919-RS03AXPS-SF03A-2A-CTDPFA302-streamed-ctdpf_sbe43_sample/deployment0001_RS03AXPS-SF03A-2A-CTDPFA302-streamed-ctdpf_sbe43_sample_20150609T010001.478900-20150708T190645.135262.nc\n",
      "https://opendap.oceanobservatories.org/thredds/dodsC/ooi/friedrich.knuth@rutgers.edu/20171219T164919-RS03AXPS-SF03A-2A-CTDPFA302-streamed-ctdpf_sbe43_sample/deployment0002_RS03AXPS-SF03A-2A-CTDPFA302-streamed-ctdpf_sbe43_sample_20150710T224741.466698-20150809T010000.962906.nc\n",
      "CPU times: user 995 ms, sys: 89.1 ms, total: 1.08 s\n",
      "Wall time: 1min 3s\n"
     ]
    }
   ],
   "source": [
    "%%time\n",
    "\n",
    "DATA_URL = 'https://ooinet.oceanobservatories.org/api/m2m/12576/sensor/inv/'\n",
    "\n",
    "data_request_url = DATA_URL+\\\n",
    "                     REFDES[:8] + '/'+\\\n",
    "                     REFDES[9:14] + '/'+\\\n",
    "                     REFDES[15:] + '/'+\\\n",
    "                    'streamed/' +\\\n",
    "                     STREAM +'?'+\\\n",
    "                    'beginDT='+ BEGIN +'T01:00:01.000Z&'+\\\n",
    "                    'endDT='+ END +'T01:00:01.000Z'\n",
    "\n",
    "# this sends the request\n",
    "r = requests.get(data_request_url, auth=(USERNAME, TOKEN))\n",
    "data = r.json()\n",
    "\n",
    "# this checks the thredds directory for the request to have been completed.\n",
    "check_complete = data['allURLs'][1] + '/status.txt'\n",
    "for i in range(1200): \n",
    "    r = requests.get(check_complete)\n",
    "    if r.status_code == requests.codes.ok:\n",
    "        print('request completed')\n",
    "        break\n",
    "    else:\n",
    "        time.sleep(1)\n",
    "\n",
    "# this grabs the first and second url. first url is latter deployement and second url the former.  \n",
    "url = data['allURLs'][0]\n",
    "url = url.replace('.html', '.xml')\n",
    "tds_url = 'https://opendap.oceanobservatories.org/thredds/dodsC'\n",
    "c = Crawl(url, select=[\".*\\.nc$\"], debug=False)\n",
    "datasets = [os.path.join(tds_url, x.id) for x in c.datasets]\n",
    "splitter = url.split('/')[-2].split('-')\n",
    "\n",
    "# put urls in chronological order\n",
    "dataset_url_1 = datasets[0] \n",
    "dataset_url_0 = datasets[1]\n",
    "\n",
    "print(dataset_url_0)\n",
    "print(dataset_url_1)"
   ]
  },
  {
   "cell_type": "markdown",
   "metadata": {},
   "source": [
    "Open NetCDF and read pressure data into pandas dataframe."
   ]
  },
  {
   "cell_type": "code",
   "execution_count": 85,
   "metadata": {
    "collapsed": false
   },
   "outputs": [],
   "source": [
    "d0_ds = xr.open_dataset(dataset_url_0)\n",
    "d0_ds = d0_ds.swap_dims({'obs': 'time'})\n",
    "d0_df = d0_ds['seawater_pressure'].to_dataframe()\n",
    "del d0_df.index.name\n",
    "d0_df = d0_df['seawater_pressure']\n",
    "\n",
    "d1_ds = xr.open_dataset(dataset_url_1)\n",
    "d1_ds = d1_ds.swap_dims({'obs': 'time'})\n",
    "d1_df = d1_ds['seawater_pressure'].to_dataframe()\n",
    "del d1_df.index.name\n",
    "d1_df = d1_df['seawater_pressure']"
   ]
  },
  {
   "cell_type": "markdown",
   "metadata": {},
   "source": [
    "Plot \"good\" deployment."
   ]
  },
  {
   "cell_type": "code",
   "execution_count": 81,
   "metadata": {
    "collapsed": false
   },
   "outputs": [
    {
     "data": {
      "image/png": "[encoded data removed]",
      "text/plain": [
       "<matplotlib.figure.Figure at 0x144b0a610>"
      ]
     },
     "metadata": {},
     "output_type": "display_data"
    }
   ],
   "source": [
    "d0_df.plot(color='blue')\n",
    "plt.show()"
   ]
  },
  {
   "cell_type": "markdown",
   "metadata": {},
   "source": [
    "Plot \"bad\" deployment."
   ]
  },
  {
   "cell_type": "code",
   "execution_count": 82,
   "metadata": {
    "collapsed": false
   },
   "outputs": [
    {
     "data": {
      "image/png": "[encoded data removed]",
      "text/plain": [
       "<matplotlib.figure.Figure at 0x19f00aed0>"
      ]
     },
     "metadata": {},
     "output_type": "display_data"
    }
   ],
   "source": [
    "d1_df.plot(color='orange')\n",
    "plt.show()"
   ]
  },
  {
   "cell_type": "markdown",
   "metadata": {},
   "source": [
    "Show offset."
   ]
  },
  {
   "cell_type": "code",
   "execution_count": 83,
   "metadata": {
    "collapsed": false
   },
   "outputs": [
    {
     "data": {
      "image/png": "[encoded data removed]",
      "text/plain": [
       "<matplotlib.figure.Figure at 0x1d7ebbad0>"
      ]
     },
     "metadata": {},
     "output_type": "display_data"
    }
   ],
   "source": [
    "d0_df.plot(color='blue')\n",
    "d1_df.plot(color='orange')\n",
    "plt.show()"
   ]
  },
  {
   "cell_type": "markdown",
   "metadata": {},
   "source": [
    "To calculate the offset, we will select a time rangse where the profiler is sitting at the dock station during each deployment and compare."
   ]
  },
  {
   "cell_type": "code",
   "execution_count": 86,
   "metadata": {
    "collapsed": false
   },
   "outputs": [],
   "source": [
    "d0_df = d0_df.to_frame()\n",
    "d0_df = pd.concat([d0_df.loc['2015-07-04T03:00:00':'2015-07-04T05:00:00'],\n",
    "                d0_df.loc['2015-07-04T08:00:00':'2015-07-04T11:00:00'],\n",
    "                d0_df.loc['2015-07-04T14:00:00':'2015-07-04T16:00:00'],\n",
    "                d0_df.loc['2015-07-04T20:00:00':'2015-07-04T22:00:00'],\n",
    "                d0_df.loc['2015-07-05T02:00:00':'2015-07-05T04:00:00'],\n",
    "                d0_df.loc['2015-07-05T07:00:00':'2015-07-05T10:00:00'],\n",
    "                d0_df.loc['2015-07-05T13:00:00':'2015-07-05T15:00:00'],\n",
    "                d0_df.loc['2015-07-05T19:00:00':'2015-07-05T21:00:00'],\n",
    "                d0_df.loc['2015-07-06T01:00:00':'2015-07-06T03:00:00'],\n",
    "                d0_df.loc['2015-07-06T07:00:00':'2015-07-06T09:00:00'],\n",
    "                d0_df.loc['2015-07-06T13:00:00':'2015-07-06T15:00:00'],\n",
    "                d0_df.loc['2015-07-06T18:00:00':'2015-07-06T21:00:00'],\n",
    "                d0_df.loc['2015-07-07T00:00:00':'2015-07-07T02:00:00'],\n",
    "                d0_df.loc['2015-07-07T06:00:00':'2015-07-07T08:00:00'],\n",
    "                d0_df.loc['2015-07-07T12:00:00':'2015-07-07T14:00:00'],\n",
    "                d0_df.loc['2015-07-07T18:00:00':'2015-07-07T20:00:00'],\n",
    "                d0_df.loc['2015-07-07T23:00:00':'2015-07-08T01:00:00'],\n",
    "                d0_df.loc['2015-07-08T05:00:00':'2015-07-08T07:00:00'],\n",
    "                d0_df.loc['2015-07-08T11:00:00':'2015-07-08T13:00:00']\n",
    "              ])\n",
    "d0_df = d0_df['seawater_pressure']\n",
    "\n",
    "d1_df = d1_df.to_frame()\n",
    "d1_df = d1_df['2015-07-17':'2015-07-23T03:00:00']\n",
    "d1_df = d1_df['seawater_pressure']"
   ]
  },
  {
   "cell_type": "code",
   "execution_count": 87,
   "metadata": {
    "collapsed": false
   },
   "outputs": [
    {
     "data": {
      "image/png": "[encoded data removed]",
      "text/plain": [
       "<matplotlib.figure.Figure at 0x1e84676d0>"
      ]
     },
     "metadata": {},
     "output_type": "display_data"
    }
   ],
   "source": [
    "d0_df.plot(color='blue')\n",
    "d1_df.plot(color='orange')\n",
    "plt.show()"
   ]
  },
  {
   "cell_type": "markdown",
   "metadata": {},
   "source": [
    "Print mean value for each deployment and mean offset."
   ]
  },
  {
   "cell_type": "code",
   "execution_count": 88,
   "metadata": {
    "collapsed": false
   },
   "outputs": [
    {
     "name": "stdout",
     "output_type": "stream",
     "text": [
      "good 187.537050345\n",
      "bad 193.303723407\n",
      "mean offset -5.76667306145\n"
     ]
    }
   ],
   "source": [
    "print \"good\", d0_df.mean()\n",
    "print \"bad\", d1_df.mean()\n",
    "print \"mean offset\", d0_df.mean() - d1_df.mean()"
   ]
  },
  {
   "cell_type": "markdown",
   "metadata": {},
   "source": [
    "Smooth data by resampling to minutely mean values."
   ]
  },
  {
   "cell_type": "code",
   "execution_count": 89,
   "metadata": {
    "collapsed": false
   },
   "outputs": [],
   "source": [
    "d0_df_m = d0_df.resample('T').mean()\n",
    "d0_df_m = d0_df_m.dropna()\n",
    "d0_df_m = d0_df_m.to_frame()\n",
    "d0_df_m['jdate'] = d0_df_m.index.to_julian_date()\n",
    "\n",
    "d1_df_m = d1_df.resample('T').mean()\n",
    "d1_df_m = d1_df_m.dropna()\n",
    "d1_df_m = d1_df_m.to_frame()\n",
    "d1_df_m['jdate'] = d1_df_m.index.to_julian_date()"
   ]
  },
  {
   "cell_type": "markdown",
   "metadata": {},
   "source": [
    "Calculate linear regression line and predicted value at begin of \"bad\" deployement."
   ]
  },
  {
   "cell_type": "code",
   "execution_count": 90,
   "metadata": {
    "collapsed": false
   },
   "outputs": [],
   "source": [
    "olsmod_d0_df_m = sm.OLS(d0_df_m['seawater_pressure'], d0_df_m['jdate'])\n",
    "olsres_d0_df_m = olsmod_d0_df_m.fit()\n",
    "ypred_d0_df_m = olsres_d0_df_m.predict(d1_df_m['jdate'].min())\n",
    "\n",
    "olsmod_d1_df_m = sm.OLS(d1_df_m['seawater_pressure'], d1_df_m['jdate'])\n",
    "olsres_d1_df_m = olsmod_d1_df_m.fit()\n",
    "ypred_d1_df_m = olsres_d1_df_m.predict(d1_df_m['jdate'].min())"
   ]
  },
  {
   "cell_type": "markdown",
   "metadata": {},
   "source": [
    "Print predicted value at begin of bad deployment for each deployment regression, along with offset. "
   ]
  },
  {
   "cell_type": "code",
   "execution_count": 91,
   "metadata": {
    "collapsed": false
   },
   "outputs": [
    {
     "name": "stdout",
     "output_type": "stream",
     "text": [
      "good 187.537743296\n",
      "bad 193.303536965\n",
      "predicted offset -5.76579366893\n"
     ]
    }
   ],
   "source": [
    "print \"good\", ypred_d0_df_m[0]\n",
    "print \"bad\", ypred_d1_df_m[0]\n",
    "print \"predicted offset\", ypred_d0_df_m[0] - ypred_d1_df_m[0]"
   ]
  },
  {
   "cell_type": "markdown",
   "metadata": {},
   "source": [
    "Compare results."
   ]
  },
  {
   "cell_type": "code",
   "execution_count": 92,
   "metadata": {
    "collapsed": false
   },
   "outputs": [
    {
     "name": "stdout",
     "output_type": "stream",
     "text": [
      "mean offset -5.76667306145\n",
      "predicted offset -5.76579366893\n"
     ]
    }
   ],
   "source": [
    "print \"mean offset\", d0_df.mean() - d1_df.mean()\n",
    "print \"predicted offset\", ypred_d0_df_m[0] - ypred_d1_df_m[0]"
   ]
  },
  {
   "cell_type": "markdown",
   "metadata": {},
   "source": [
    "The `mean offset` represents the difference between the mean pressure values over a 1 month period from each deployment.  \n",
    "The `predicted offset` represents the difference between the linear regression values predicted to be at the start of the bad deployment.\n",
    "\n",
    "\n",
    "Visualize correction.\n",
    "\n",
    "Before."
   ]
  },
  {
   "cell_type": "code",
   "execution_count": 93,
   "metadata": {
    "collapsed": false
   },
   "outputs": [
    {
     "data": {
      "image/png": "[encoded data removed]",
      "text/plain": [
       "<matplotlib.figure.Figure at 0x19f01ce90>"
      ]
     },
     "metadata": {},
     "output_type": "display_data"
    }
   ],
   "source": [
    "d0_df.plot(color='blue')\n",
    "d1_df.plot(color='orange')\n",
    "plt.show()"
   ]
  },
  {
   "cell_type": "markdown",
   "metadata": {},
   "source": [
    "After."
   ]
  },
  {
   "cell_type": "code",
   "execution_count": 94,
   "metadata": {
    "collapsed": false
   },
   "outputs": [
    {
     "data": {
      "image/png": "[encoded data removed]",
      "text/plain": [
       "<matplotlib.figure.Figure at 0x16f105d10>"
      ]
     },
     "metadata": {},
     "output_type": "display_data"
    }
   ],
   "source": [
    "p_offset = ypred_d0_df_m[0] - ypred_d1_df_m[0]\n",
    "d1_df_c = d1_df.to_frame()\n",
    "d1_df_c['seawater_pressure_corrected'] = d1_df_c['seawater_pressure'] + p_offset\n",
    "d0_df.plot(color='blue')\n",
    "d1_df_c['seawater_pressure_corrected'].plot(color='orange')\n",
    "plt.show()"
   ]
  },
  {
   "cell_type": "code",
   "execution_count": 95,
   "metadata": {
    "collapsed": false
   },
   "outputs": [
    {
     "name": "stdout",
     "output_type": "stream",
     "text": [
      "predicted offset -5.76579366893\n"
     ]
    }
   ],
   "source": [
    "print \"predicted offset\", p_offset"
   ]
  },
  {
   "cell_type": "code",
   "execution_count": null,
   "metadata": {
    "collapsed": true
   },
   "outputs": [],
   "source": []
  },
  {
   "cell_type": "code",
   "execution_count": null,
   "metadata": {
    "collapsed": true
   },
   "outputs": [],
   "source": []
  }
 ],
 "metadata": {
  "kernelspec": {
   "display_name": "tide",
   "language": "python",
   "name": "tide"
  },
  "language_info": {
   "codemirror_mode": {
    "name": "ipython",
    "version": 2
   },
   "file_extension": ".py",
   "mimetype": "text/x-python",
   "name": "python",
   "nbconvert_exporter": "python",
   "pygments_lexer": "ipython2",
   "version": "2.7.14"
  }
 },
 "nbformat": 4,
 "nbformat_minor": 2
}
